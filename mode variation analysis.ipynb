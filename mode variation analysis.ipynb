{
 "cells": [
  {
   "cell_type": "markdown",
   "id": "governmental-oxide",
   "metadata": {},
   "source": [
    "From the mode variation matrix, 'school bus', 'walk' and 'car/van' may have expected statistical rules because they are the dominated parts of the mode choices. \n",
    "\n",
    "So first, we select these data rows as a new dataframe."
   ]
  },
  {
   "cell_type": "code",
   "execution_count": 1,
   "id": "legendary-oracle",
   "metadata": {},
   "outputs": [],
   "source": [
    "import pandas as pd\n",
    "import numpy as np"
   ]
  },
  {
   "cell_type": "code",
   "execution_count": 2,
   "id": "third-military",
   "metadata": {},
   "outputs": [
    {
     "data": {
      "text/html": [
       "<div>\n",
       "<style scoped>\n",
       "    .dataframe tbody tr th:only-of-type {\n",
       "        vertical-align: middle;\n",
       "    }\n",
       "\n",
       "    .dataframe tbody tr th {\n",
       "        vertical-align: top;\n",
       "    }\n",
       "\n",
       "    .dataframe thead th {\n",
       "        text-align: right;\n",
       "    }\n",
       "</style>\n",
       "<table border=\"1\" class=\"dataframe\">\n",
       "  <thead>\n",
       "    <tr style=\"text-align: right;\">\n",
       "      <th></th>\n",
       "      <th>age</th>\n",
       "      <th>IMD2019_decile</th>\n",
       "      <th>household_size</th>\n",
       "      <th>mor_travel</th>\n",
       "      <th>aft_travel</th>\n",
       "      <th>#car</th>\n",
       "      <th>unwill_walk</th>\n",
       "      <th>ethnicity_Other</th>\n",
       "      <th>ethnicity_Pakistani</th>\n",
       "      <th>ethnicity_White British</th>\n",
       "      <th>...</th>\n",
       "      <th>mode_now_Walk</th>\n",
       "      <th>mode_before_Bicycle</th>\n",
       "      <th>mode_before_Car/Van</th>\n",
       "      <th>mode_before_Other bus</th>\n",
       "      <th>mode_before_School Bus</th>\n",
       "      <th>mode_before_Taxi</th>\n",
       "      <th>mode_before_Train</th>\n",
       "      <th>mode_before_Walk</th>\n",
       "      <th>Y1</th>\n",
       "      <th>Y2</th>\n",
       "    </tr>\n",
       "  </thead>\n",
       "  <tbody>\n",
       "    <tr>\n",
       "      <th>0</th>\n",
       "      <td>12</td>\n",
       "      <td>1</td>\n",
       "      <td>5.0</td>\n",
       "      <td>1.0</td>\n",
       "      <td>1.0</td>\n",
       "      <td>3.0</td>\n",
       "      <td>2.0</td>\n",
       "      <td>0</td>\n",
       "      <td>0</td>\n",
       "      <td>1</td>\n",
       "      <td>...</td>\n",
       "      <td>0</td>\n",
       "      <td>0</td>\n",
       "      <td>1</td>\n",
       "      <td>0</td>\n",
       "      <td>0</td>\n",
       "      <td>0</td>\n",
       "      <td>0</td>\n",
       "      <td>0</td>\n",
       "      <td>0.0</td>\n",
       "      <td>car-car</td>\n",
       "    </tr>\n",
       "    <tr>\n",
       "      <th>1</th>\n",
       "      <td>12</td>\n",
       "      <td>2</td>\n",
       "      <td>4.0</td>\n",
       "      <td>4.0</td>\n",
       "      <td>3.0</td>\n",
       "      <td>NaN</td>\n",
       "      <td>NaN</td>\n",
       "      <td>1</td>\n",
       "      <td>0</td>\n",
       "      <td>0</td>\n",
       "      <td>...</td>\n",
       "      <td>1</td>\n",
       "      <td>0</td>\n",
       "      <td>0</td>\n",
       "      <td>0</td>\n",
       "      <td>0</td>\n",
       "      <td>0</td>\n",
       "      <td>0</td>\n",
       "      <td>1</td>\n",
       "      <td>0.0</td>\n",
       "      <td>walk-walk</td>\n",
       "    </tr>\n",
       "    <tr>\n",
       "      <th>2</th>\n",
       "      <td>12</td>\n",
       "      <td>4</td>\n",
       "      <td>4.0</td>\n",
       "      <td>3.0</td>\n",
       "      <td>3.0</td>\n",
       "      <td>3.0</td>\n",
       "      <td>NaN</td>\n",
       "      <td>0</td>\n",
       "      <td>0</td>\n",
       "      <td>1</td>\n",
       "      <td>...</td>\n",
       "      <td>1</td>\n",
       "      <td>0</td>\n",
       "      <td>0</td>\n",
       "      <td>0</td>\n",
       "      <td>0</td>\n",
       "      <td>0</td>\n",
       "      <td>0</td>\n",
       "      <td>1</td>\n",
       "      <td>0.0</td>\n",
       "      <td>walk-walk</td>\n",
       "    </tr>\n",
       "    <tr>\n",
       "      <th>3</th>\n",
       "      <td>12</td>\n",
       "      <td>1</td>\n",
       "      <td>3.0</td>\n",
       "      <td>2.0</td>\n",
       "      <td>3.0</td>\n",
       "      <td>3.0</td>\n",
       "      <td>NaN</td>\n",
       "      <td>0</td>\n",
       "      <td>0</td>\n",
       "      <td>1</td>\n",
       "      <td>...</td>\n",
       "      <td>1</td>\n",
       "      <td>0</td>\n",
       "      <td>1</td>\n",
       "      <td>0</td>\n",
       "      <td>0</td>\n",
       "      <td>0</td>\n",
       "      <td>0</td>\n",
       "      <td>0</td>\n",
       "      <td>1.0</td>\n",
       "      <td>car-walk</td>\n",
       "    </tr>\n",
       "    <tr>\n",
       "      <th>4</th>\n",
       "      <td>12</td>\n",
       "      <td>8</td>\n",
       "      <td>4.0</td>\n",
       "      <td>5.0</td>\n",
       "      <td>4.0</td>\n",
       "      <td>3.0</td>\n",
       "      <td>NaN</td>\n",
       "      <td>0</td>\n",
       "      <td>0</td>\n",
       "      <td>1</td>\n",
       "      <td>...</td>\n",
       "      <td>1</td>\n",
       "      <td>0</td>\n",
       "      <td>0</td>\n",
       "      <td>0</td>\n",
       "      <td>0</td>\n",
       "      <td>0</td>\n",
       "      <td>0</td>\n",
       "      <td>1</td>\n",
       "      <td>0.0</td>\n",
       "      <td>walk-walk</td>\n",
       "    </tr>\n",
       "    <tr>\n",
       "      <th>5</th>\n",
       "      <td>10</td>\n",
       "      <td>8</td>\n",
       "      <td>4.0</td>\n",
       "      <td>1.0</td>\n",
       "      <td>2.0</td>\n",
       "      <td>3.0</td>\n",
       "      <td>NaN</td>\n",
       "      <td>0</td>\n",
       "      <td>0</td>\n",
       "      <td>1</td>\n",
       "      <td>...</td>\n",
       "      <td>1</td>\n",
       "      <td>0</td>\n",
       "      <td>1</td>\n",
       "      <td>0</td>\n",
       "      <td>0</td>\n",
       "      <td>0</td>\n",
       "      <td>0</td>\n",
       "      <td>0</td>\n",
       "      <td>1.0</td>\n",
       "      <td>car-walk</td>\n",
       "    </tr>\n",
       "    <tr>\n",
       "      <th>6</th>\n",
       "      <td>12</td>\n",
       "      <td>6</td>\n",
       "      <td>NaN</td>\n",
       "      <td>5.0</td>\n",
       "      <td>5.0</td>\n",
       "      <td>2.0</td>\n",
       "      <td>NaN</td>\n",
       "      <td>0</td>\n",
       "      <td>0</td>\n",
       "      <td>1</td>\n",
       "      <td>...</td>\n",
       "      <td>1</td>\n",
       "      <td>0</td>\n",
       "      <td>0</td>\n",
       "      <td>0</td>\n",
       "      <td>0</td>\n",
       "      <td>0</td>\n",
       "      <td>0</td>\n",
       "      <td>1</td>\n",
       "      <td>0.0</td>\n",
       "      <td>walk-walk</td>\n",
       "    </tr>\n",
       "    <tr>\n",
       "      <th>7</th>\n",
       "      <td>9</td>\n",
       "      <td>6</td>\n",
       "      <td>NaN</td>\n",
       "      <td>4.0</td>\n",
       "      <td>4.0</td>\n",
       "      <td>2.0</td>\n",
       "      <td>2.0</td>\n",
       "      <td>0</td>\n",
       "      <td>0</td>\n",
       "      <td>1</td>\n",
       "      <td>...</td>\n",
       "      <td>1</td>\n",
       "      <td>0</td>\n",
       "      <td>0</td>\n",
       "      <td>0</td>\n",
       "      <td>0</td>\n",
       "      <td>0</td>\n",
       "      <td>0</td>\n",
       "      <td>1</td>\n",
       "      <td>0.0</td>\n",
       "      <td>walk-walk</td>\n",
       "    </tr>\n",
       "    <tr>\n",
       "      <th>8</th>\n",
       "      <td>12</td>\n",
       "      <td>2</td>\n",
       "      <td>4.0</td>\n",
       "      <td>1.0</td>\n",
       "      <td>3.0</td>\n",
       "      <td>3.0</td>\n",
       "      <td>1.0</td>\n",
       "      <td>1</td>\n",
       "      <td>0</td>\n",
       "      <td>0</td>\n",
       "      <td>...</td>\n",
       "      <td>0</td>\n",
       "      <td>0</td>\n",
       "      <td>1</td>\n",
       "      <td>0</td>\n",
       "      <td>0</td>\n",
       "      <td>0</td>\n",
       "      <td>0</td>\n",
       "      <td>0</td>\n",
       "      <td>0.0</td>\n",
       "      <td>car-car</td>\n",
       "    </tr>\n",
       "  </tbody>\n",
       "</table>\n",
       "<p>9 rows × 28 columns</p>\n",
       "</div>"
      ],
      "text/plain": [
       "   age  IMD2019_decile  household_size  mor_travel  aft_travel  #car  \\\n",
       "0   12               1             5.0         1.0         1.0   3.0   \n",
       "1   12               2             4.0         4.0         3.0   NaN   \n",
       "2   12               4             4.0         3.0         3.0   3.0   \n",
       "3   12               1             3.0         2.0         3.0   3.0   \n",
       "4   12               8             4.0         5.0         4.0   3.0   \n",
       "5   10               8             4.0         1.0         2.0   3.0   \n",
       "6   12               6             NaN         5.0         5.0   2.0   \n",
       "7    9               6             NaN         4.0         4.0   2.0   \n",
       "8   12               2             4.0         1.0         3.0   3.0   \n",
       "\n",
       "   unwill_walk  ethnicity_Other  ethnicity_Pakistani  ethnicity_White British  \\\n",
       "0          2.0                0                    0                        1   \n",
       "1          NaN                1                    0                        0   \n",
       "2          NaN                0                    0                        1   \n",
       "3          NaN                0                    0                        1   \n",
       "4          NaN                0                    0                        1   \n",
       "5          NaN                0                    0                        1   \n",
       "6          NaN                0                    0                        1   \n",
       "7          2.0                0                    0                        1   \n",
       "8          1.0                1                    0                        0   \n",
       "\n",
       "   ...  mode_now_Walk  mode_before_Bicycle  mode_before_Car/Van  \\\n",
       "0  ...              0                    0                    1   \n",
       "1  ...              1                    0                    0   \n",
       "2  ...              1                    0                    0   \n",
       "3  ...              1                    0                    1   \n",
       "4  ...              1                    0                    0   \n",
       "5  ...              1                    0                    1   \n",
       "6  ...              1                    0                    0   \n",
       "7  ...              1                    0                    0   \n",
       "8  ...              0                    0                    1   \n",
       "\n",
       "   mode_before_Other bus  mode_before_School Bus  mode_before_Taxi  \\\n",
       "0                      0                       0                 0   \n",
       "1                      0                       0                 0   \n",
       "2                      0                       0                 0   \n",
       "3                      0                       0                 0   \n",
       "4                      0                       0                 0   \n",
       "5                      0                       0                 0   \n",
       "6                      0                       0                 0   \n",
       "7                      0                       0                 0   \n",
       "8                      0                       0                 0   \n",
       "\n",
       "   mode_before_Train  mode_before_Walk   Y1         Y2  \n",
       "0                  0                 0  0.0    car-car  \n",
       "1                  0                 1  0.0  walk-walk  \n",
       "2                  0                 1  0.0  walk-walk  \n",
       "3                  0                 0  1.0   car-walk  \n",
       "4                  0                 1  0.0  walk-walk  \n",
       "5                  0                 0  1.0   car-walk  \n",
       "6                  0                 1  0.0  walk-walk  \n",
       "7                  0                 1  0.0  walk-walk  \n",
       "8                  0                 0  0.0    car-car  \n",
       "\n",
       "[9 rows x 28 columns]"
      ]
     },
     "execution_count": 2,
     "metadata": {},
     "output_type": "execute_result"
    }
   ],
   "source": [
    "data=pd.read_csv('processed.csv')\n",
    "data.head(9)"
   ]
  },
  {
   "cell_type": "code",
   "execution_count": 3,
   "id": "similar-secret",
   "metadata": {},
   "outputs": [
    {
     "data": {
      "text/plain": [
       "(591, 28)"
      ]
     },
     "execution_count": 3,
     "metadata": {},
     "output_type": "execute_result"
    }
   ],
   "source": [
    "# select the needed modes\n",
    "\n",
    "df=data[(data['mode_now_Car/Van']>0)|(data['mode_now_School Bus']>0)|data['mode_now_Walk']>0]\n",
    "df.shape"
   ]
  },
  {
   "cell_type": "code",
   "execution_count": 4,
   "id": "effective-spare",
   "metadata": {},
   "outputs": [
    {
     "data": {
      "text/plain": [
       "(583, 28)"
      ]
     },
     "execution_count": 4,
     "metadata": {},
     "output_type": "execute_result"
    }
   ],
   "source": [
    "df=df[(df['mode_before_Car/Van']>0)|(df['mode_before_School Bus']>0)|(df['mode_before_Walk']>0)]\n",
    "df.shape"
   ]
  },
  {
   "cell_type": "code",
   "execution_count": 5,
   "id": "joint-pregnancy",
   "metadata": {
    "scrolled": true
   },
   "outputs": [
    {
     "data": {
      "text/html": [
       "<div>\n",
       "<style scoped>\n",
       "    .dataframe tbody tr th:only-of-type {\n",
       "        vertical-align: middle;\n",
       "    }\n",
       "\n",
       "    .dataframe tbody tr th {\n",
       "        vertical-align: top;\n",
       "    }\n",
       "\n",
       "    .dataframe thead th {\n",
       "        text-align: right;\n",
       "    }\n",
       "</style>\n",
       "<table border=\"1\" class=\"dataframe\">\n",
       "  <thead>\n",
       "    <tr style=\"text-align: right;\">\n",
       "      <th></th>\n",
       "      <th>age</th>\n",
       "      <th>IMD2019_decile</th>\n",
       "      <th>household_size</th>\n",
       "      <th>mor_travel</th>\n",
       "      <th>aft_travel</th>\n",
       "      <th>#car</th>\n",
       "      <th>unwill_walk</th>\n",
       "      <th>ethnicity_Other</th>\n",
       "      <th>ethnicity_Pakistani</th>\n",
       "      <th>ethnicity_White British</th>\n",
       "      <th>...</th>\n",
       "      <th>mode_now_Walk</th>\n",
       "      <th>mode_before_Bicycle</th>\n",
       "      <th>mode_before_Car/Van</th>\n",
       "      <th>mode_before_Other bus</th>\n",
       "      <th>mode_before_School Bus</th>\n",
       "      <th>mode_before_Taxi</th>\n",
       "      <th>mode_before_Train</th>\n",
       "      <th>mode_before_Walk</th>\n",
       "      <th>Y1</th>\n",
       "      <th>Y2</th>\n",
       "    </tr>\n",
       "  </thead>\n",
       "  <tbody>\n",
       "    <tr>\n",
       "      <th>0</th>\n",
       "      <td>12</td>\n",
       "      <td>1</td>\n",
       "      <td>5.0</td>\n",
       "      <td>1.0</td>\n",
       "      <td>1.0</td>\n",
       "      <td>3.0</td>\n",
       "      <td>2.0</td>\n",
       "      <td>0</td>\n",
       "      <td>0</td>\n",
       "      <td>1</td>\n",
       "      <td>...</td>\n",
       "      <td>0</td>\n",
       "      <td>0</td>\n",
       "      <td>1</td>\n",
       "      <td>0</td>\n",
       "      <td>0</td>\n",
       "      <td>0</td>\n",
       "      <td>0</td>\n",
       "      <td>0</td>\n",
       "      <td>0.0</td>\n",
       "      <td>car-car</td>\n",
       "    </tr>\n",
       "    <tr>\n",
       "      <th>1</th>\n",
       "      <td>12</td>\n",
       "      <td>2</td>\n",
       "      <td>4.0</td>\n",
       "      <td>4.0</td>\n",
       "      <td>3.0</td>\n",
       "      <td>NaN</td>\n",
       "      <td>NaN</td>\n",
       "      <td>1</td>\n",
       "      <td>0</td>\n",
       "      <td>0</td>\n",
       "      <td>...</td>\n",
       "      <td>1</td>\n",
       "      <td>0</td>\n",
       "      <td>0</td>\n",
       "      <td>0</td>\n",
       "      <td>0</td>\n",
       "      <td>0</td>\n",
       "      <td>0</td>\n",
       "      <td>1</td>\n",
       "      <td>0.0</td>\n",
       "      <td>walk-walk</td>\n",
       "    </tr>\n",
       "    <tr>\n",
       "      <th>2</th>\n",
       "      <td>12</td>\n",
       "      <td>4</td>\n",
       "      <td>4.0</td>\n",
       "      <td>3.0</td>\n",
       "      <td>3.0</td>\n",
       "      <td>3.0</td>\n",
       "      <td>NaN</td>\n",
       "      <td>0</td>\n",
       "      <td>0</td>\n",
       "      <td>1</td>\n",
       "      <td>...</td>\n",
       "      <td>1</td>\n",
       "      <td>0</td>\n",
       "      <td>0</td>\n",
       "      <td>0</td>\n",
       "      <td>0</td>\n",
       "      <td>0</td>\n",
       "      <td>0</td>\n",
       "      <td>1</td>\n",
       "      <td>0.0</td>\n",
       "      <td>walk-walk</td>\n",
       "    </tr>\n",
       "    <tr>\n",
       "      <th>3</th>\n",
       "      <td>12</td>\n",
       "      <td>1</td>\n",
       "      <td>3.0</td>\n",
       "      <td>2.0</td>\n",
       "      <td>3.0</td>\n",
       "      <td>3.0</td>\n",
       "      <td>NaN</td>\n",
       "      <td>0</td>\n",
       "      <td>0</td>\n",
       "      <td>1</td>\n",
       "      <td>...</td>\n",
       "      <td>1</td>\n",
       "      <td>0</td>\n",
       "      <td>1</td>\n",
       "      <td>0</td>\n",
       "      <td>0</td>\n",
       "      <td>0</td>\n",
       "      <td>0</td>\n",
       "      <td>0</td>\n",
       "      <td>1.0</td>\n",
       "      <td>car-walk</td>\n",
       "    </tr>\n",
       "    <tr>\n",
       "      <th>4</th>\n",
       "      <td>12</td>\n",
       "      <td>8</td>\n",
       "      <td>4.0</td>\n",
       "      <td>5.0</td>\n",
       "      <td>4.0</td>\n",
       "      <td>3.0</td>\n",
       "      <td>NaN</td>\n",
       "      <td>0</td>\n",
       "      <td>0</td>\n",
       "      <td>1</td>\n",
       "      <td>...</td>\n",
       "      <td>1</td>\n",
       "      <td>0</td>\n",
       "      <td>0</td>\n",
       "      <td>0</td>\n",
       "      <td>0</td>\n",
       "      <td>0</td>\n",
       "      <td>0</td>\n",
       "      <td>1</td>\n",
       "      <td>0.0</td>\n",
       "      <td>walk-walk</td>\n",
       "    </tr>\n",
       "    <tr>\n",
       "      <th>5</th>\n",
       "      <td>10</td>\n",
       "      <td>8</td>\n",
       "      <td>4.0</td>\n",
       "      <td>1.0</td>\n",
       "      <td>2.0</td>\n",
       "      <td>3.0</td>\n",
       "      <td>NaN</td>\n",
       "      <td>0</td>\n",
       "      <td>0</td>\n",
       "      <td>1</td>\n",
       "      <td>...</td>\n",
       "      <td>1</td>\n",
       "      <td>0</td>\n",
       "      <td>1</td>\n",
       "      <td>0</td>\n",
       "      <td>0</td>\n",
       "      <td>0</td>\n",
       "      <td>0</td>\n",
       "      <td>0</td>\n",
       "      <td>1.0</td>\n",
       "      <td>car-walk</td>\n",
       "    </tr>\n",
       "    <tr>\n",
       "      <th>6</th>\n",
       "      <td>12</td>\n",
       "      <td>6</td>\n",
       "      <td>NaN</td>\n",
       "      <td>5.0</td>\n",
       "      <td>5.0</td>\n",
       "      <td>2.0</td>\n",
       "      <td>NaN</td>\n",
       "      <td>0</td>\n",
       "      <td>0</td>\n",
       "      <td>1</td>\n",
       "      <td>...</td>\n",
       "      <td>1</td>\n",
       "      <td>0</td>\n",
       "      <td>0</td>\n",
       "      <td>0</td>\n",
       "      <td>0</td>\n",
       "      <td>0</td>\n",
       "      <td>0</td>\n",
       "      <td>1</td>\n",
       "      <td>0.0</td>\n",
       "      <td>walk-walk</td>\n",
       "    </tr>\n",
       "    <tr>\n",
       "      <th>7</th>\n",
       "      <td>9</td>\n",
       "      <td>6</td>\n",
       "      <td>NaN</td>\n",
       "      <td>4.0</td>\n",
       "      <td>4.0</td>\n",
       "      <td>2.0</td>\n",
       "      <td>2.0</td>\n",
       "      <td>0</td>\n",
       "      <td>0</td>\n",
       "      <td>1</td>\n",
       "      <td>...</td>\n",
       "      <td>1</td>\n",
       "      <td>0</td>\n",
       "      <td>0</td>\n",
       "      <td>0</td>\n",
       "      <td>0</td>\n",
       "      <td>0</td>\n",
       "      <td>0</td>\n",
       "      <td>1</td>\n",
       "      <td>0.0</td>\n",
       "      <td>walk-walk</td>\n",
       "    </tr>\n",
       "    <tr>\n",
       "      <th>8</th>\n",
       "      <td>12</td>\n",
       "      <td>2</td>\n",
       "      <td>4.0</td>\n",
       "      <td>1.0</td>\n",
       "      <td>3.0</td>\n",
       "      <td>3.0</td>\n",
       "      <td>1.0</td>\n",
       "      <td>1</td>\n",
       "      <td>0</td>\n",
       "      <td>0</td>\n",
       "      <td>...</td>\n",
       "      <td>0</td>\n",
       "      <td>0</td>\n",
       "      <td>1</td>\n",
       "      <td>0</td>\n",
       "      <td>0</td>\n",
       "      <td>0</td>\n",
       "      <td>0</td>\n",
       "      <td>0</td>\n",
       "      <td>0.0</td>\n",
       "      <td>car-car</td>\n",
       "    </tr>\n",
       "  </tbody>\n",
       "</table>\n",
       "<p>9 rows × 28 columns</p>\n",
       "</div>"
      ],
      "text/plain": [
       "   age  IMD2019_decile  household_size  mor_travel  aft_travel  #car  \\\n",
       "0   12               1             5.0         1.0         1.0   3.0   \n",
       "1   12               2             4.0         4.0         3.0   NaN   \n",
       "2   12               4             4.0         3.0         3.0   3.0   \n",
       "3   12               1             3.0         2.0         3.0   3.0   \n",
       "4   12               8             4.0         5.0         4.0   3.0   \n",
       "5   10               8             4.0         1.0         2.0   3.0   \n",
       "6   12               6             NaN         5.0         5.0   2.0   \n",
       "7    9               6             NaN         4.0         4.0   2.0   \n",
       "8   12               2             4.0         1.0         3.0   3.0   \n",
       "\n",
       "   unwill_walk  ethnicity_Other  ethnicity_Pakistani  ethnicity_White British  \\\n",
       "0          2.0                0                    0                        1   \n",
       "1          NaN                1                    0                        0   \n",
       "2          NaN                0                    0                        1   \n",
       "3          NaN                0                    0                        1   \n",
       "4          NaN                0                    0                        1   \n",
       "5          NaN                0                    0                        1   \n",
       "6          NaN                0                    0                        1   \n",
       "7          2.0                0                    0                        1   \n",
       "8          1.0                1                    0                        0   \n",
       "\n",
       "   ...  mode_now_Walk  mode_before_Bicycle  mode_before_Car/Van  \\\n",
       "0  ...              0                    0                    1   \n",
       "1  ...              1                    0                    0   \n",
       "2  ...              1                    0                    0   \n",
       "3  ...              1                    0                    1   \n",
       "4  ...              1                    0                    0   \n",
       "5  ...              1                    0                    1   \n",
       "6  ...              1                    0                    0   \n",
       "7  ...              1                    0                    0   \n",
       "8  ...              0                    0                    1   \n",
       "\n",
       "   mode_before_Other bus  mode_before_School Bus  mode_before_Taxi  \\\n",
       "0                      0                       0                 0   \n",
       "1                      0                       0                 0   \n",
       "2                      0                       0                 0   \n",
       "3                      0                       0                 0   \n",
       "4                      0                       0                 0   \n",
       "5                      0                       0                 0   \n",
       "6                      0                       0                 0   \n",
       "7                      0                       0                 0   \n",
       "8                      0                       0                 0   \n",
       "\n",
       "   mode_before_Train  mode_before_Walk   Y1         Y2  \n",
       "0                  0                 0  0.0    car-car  \n",
       "1                  0                 1  0.0  walk-walk  \n",
       "2                  0                 1  0.0  walk-walk  \n",
       "3                  0                 0  1.0   car-walk  \n",
       "4                  0                 1  0.0  walk-walk  \n",
       "5                  0                 0  1.0   car-walk  \n",
       "6                  0                 1  0.0  walk-walk  \n",
       "7                  0                 1  0.0  walk-walk  \n",
       "8                  0                 0  0.0    car-car  \n",
       "\n",
       "[9 rows x 28 columns]"
      ]
     },
     "execution_count": 5,
     "metadata": {},
     "output_type": "execute_result"
    }
   ],
   "source": [
    "df.head(9)"
   ]
  },
  {
   "cell_type": "markdown",
   "id": "incoming-mississippi",
   "metadata": {},
   "source": [
    "Note that there are 583 rows and this euqals the former calculation. Then, we need to define the target variable and do some feature selection to delete some columns."
   ]
  },
  {
   "cell_type": "markdown",
   "id": "according-salon",
   "metadata": {},
   "source": [
    " for binary classification,    \n",
    " &emsp; mode_change -1; &emsp; mode_same 1  \n",
    "    \n",
    "    \n",
    " for multi-class classification,  there are many perspectives to design the labels.  \n",
    "Method 1:  Assume that there is a partial ordering relation according to the privacy/risk ( or the number of people students may encounter during the school commuting.)  Car -> Walk -> School Bus. Then, if the mode before is car and now is walk, we give 1 representing the risk rising 1. If they are same, then give 0.\n",
    " &emsp; &emsp;&emsp; &emsp;mode_same = 0,    \n",
    " &emsp; &emsp;&emsp; &emsp;car - walk = 1,  \n",
    " &emsp; &emsp;&emsp; &emsp;car - bus = 2,  \n",
    " &emsp; &emsp;&emsp; &emsp;walk - car = -1,  \n",
    " &emsp; &emsp;&emsp; &emsp;walk - bus =1,  \n",
    " &emsp; &emsp;&emsp; &emsp;bus - car = -2,  \n",
    " &emsp; &emsp; &emsp;&emsp;bus - walk = -1  \n",
    "   \n",
    "   \n",
    "Method 2: For different mode-changes, give different labels using one-hot encoding.\n",
    "\n"
   ]
  },
  {
   "cell_type": "markdown",
   "id": "expired-ukraine",
   "metadata": {},
   "source": [
    "##  Method1"
   ]
  },
  {
   "cell_type": "code",
   "execution_count": 6,
   "id": "latin-nylon",
   "metadata": {
    "scrolled": false
   },
   "outputs": [
    {
     "data": {
      "text/plain": [
       " 0.0    475\n",
       "-1.0     45\n",
       " 1.0     45\n",
       " 2.0     15\n",
       "-2.0      3\n",
       "Name: Y1, dtype: int64"
      ]
     },
     "execution_count": 6,
     "metadata": {},
     "output_type": "execute_result"
    }
   ],
   "source": [
    "# Y1 is the target variable for method 1.\n",
    "df['Y1'].value_counts()"
   ]
  },
  {
   "cell_type": "code",
   "execution_count": 7,
   "id": "egyptian-hydrogen",
   "metadata": {
    "scrolled": true
   },
   "outputs": [
    {
     "data": {
      "text/plain": [
       " 0.0    475\n",
       "-1.0     45\n",
       " 1.0     45\n",
       " 2.0     15\n",
       "Name: Y1, dtype: int64"
      ]
     },
     "execution_count": 7,
     "metadata": {},
     "output_type": "execute_result"
    }
   ],
   "source": [
    "# since y1=-2 is too small, delete y1=-2\n",
    "df1=df[df['Y1']!=-2]\n",
    "df1['Y1'].value_counts()"
   ]
  },
  {
   "cell_type": "code",
   "execution_count": 8,
   "id": "normal-meeting",
   "metadata": {},
   "outputs": [
    {
     "data": {
      "text/plain": [
       "<AxesSubplot:>"
      ]
     },
     "execution_count": 8,
     "metadata": {},
     "output_type": "execute_result"
    },
    {
     "data": {
      "image/png": "[encoded data removed]",
      "text/plain": [
       "<Figure size 1800x720 with 2 Axes>"
      ]
     },
     "metadata": {
      "needs_background": "light"
     },
     "output_type": "display_data"
    }
   ],
   "source": [
    "# from the missing value analysis, \n",
    "# unwill_walk has too many missing values and it is not meaningful for real prediction, so delete it\n",
    "import missingno as msno\n",
    "msno.matrix(df1)"
   ]
  },
  {
   "cell_type": "code",
   "execution_count": 10,
   "id": "anticipated-refund",
   "metadata": {
    "collapsed": true
   },
   "outputs": [
    {
     "data": {
      "text/html": [
       "<div>\n",
       "<style scoped>\n",
       "    .dataframe tbody tr th:only-of-type {\n",
       "        vertical-align: middle;\n",
       "    }\n",
       "\n",
       "    .dataframe tbody tr th {\n",
       "        vertical-align: top;\n",
       "    }\n",
       "\n",
       "    .dataframe thead th {\n",
       "        text-align: right;\n",
       "    }\n",
       "</style>\n",
       "<table border=\"1\" class=\"dataframe\">\n",
       "  <thead>\n",
       "    <tr style=\"text-align: right;\">\n",
       "      <th></th>\n",
       "      <th>age</th>\n",
       "      <th>IMD2019_decile</th>\n",
       "      <th>household_size</th>\n",
       "      <th>mor_travel</th>\n",
       "      <th>aft_travel</th>\n",
       "      <th>#car</th>\n",
       "      <th>ethnicity_Other</th>\n",
       "      <th>ethnicity_Pakistani</th>\n",
       "      <th>ethnicity_White British</th>\n",
       "      <th>gender_Female</th>\n",
       "      <th>...</th>\n",
       "      <th>mode_now_Walk</th>\n",
       "      <th>mode_before_Bicycle</th>\n",
       "      <th>mode_before_Car/Van</th>\n",
       "      <th>mode_before_Other bus</th>\n",
       "      <th>mode_before_School Bus</th>\n",
       "      <th>mode_before_Taxi</th>\n",
       "      <th>mode_before_Train</th>\n",
       "      <th>mode_before_Walk</th>\n",
       "      <th>Y1</th>\n",
       "      <th>Y2</th>\n",
       "    </tr>\n",
       "  </thead>\n",
       "  <tbody>\n",
       "    <tr>\n",
       "      <th>0</th>\n",
       "      <td>12</td>\n",
       "      <td>1</td>\n",
       "      <td>5.0</td>\n",
       "      <td>1.0</td>\n",
       "      <td>1.0</td>\n",
       "      <td>3.0</td>\n",
       "      <td>0</td>\n",
       "      <td>0</td>\n",
       "      <td>1</td>\n",
       "      <td>1</td>\n",
       "      <td>...</td>\n",
       "      <td>0</td>\n",
       "      <td>0</td>\n",
       "      <td>1</td>\n",
       "      <td>0</td>\n",
       "      <td>0</td>\n",
       "      <td>0</td>\n",
       "      <td>0</td>\n",
       "      <td>0</td>\n",
       "      <td>0.0</td>\n",
       "      <td>car-car</td>\n",
       "    </tr>\n",
       "    <tr>\n",
       "      <th>1</th>\n",
       "      <td>12</td>\n",
       "      <td>2</td>\n",
       "      <td>4.0</td>\n",
       "      <td>4.0</td>\n",
       "      <td>3.0</td>\n",
       "      <td>NaN</td>\n",
       "      <td>1</td>\n",
       "      <td>0</td>\n",
       "      <td>0</td>\n",
       "      <td>1</td>\n",
       "      <td>...</td>\n",
       "      <td>1</td>\n",
       "      <td>0</td>\n",
       "      <td>0</td>\n",
       "      <td>0</td>\n",
       "      <td>0</td>\n",
       "      <td>0</td>\n",
       "      <td>0</td>\n",
       "      <td>1</td>\n",
       "      <td>0.0</td>\n",
       "      <td>walk-walk</td>\n",
       "    </tr>\n",
       "    <tr>\n",
       "      <th>2</th>\n",
       "      <td>12</td>\n",
       "      <td>4</td>\n",
       "      <td>4.0</td>\n",
       "      <td>3.0</td>\n",
       "      <td>3.0</td>\n",
       "      <td>3.0</td>\n",
       "      <td>0</td>\n",
       "      <td>0</td>\n",
       "      <td>1</td>\n",
       "      <td>1</td>\n",
       "      <td>...</td>\n",
       "      <td>1</td>\n",
       "      <td>0</td>\n",
       "      <td>0</td>\n",
       "      <td>0</td>\n",
       "      <td>0</td>\n",
       "      <td>0</td>\n",
       "      <td>0</td>\n",
       "      <td>1</td>\n",
       "      <td>0.0</td>\n",
       "      <td>walk-walk</td>\n",
       "    </tr>\n",
       "    <tr>\n",
       "      <th>3</th>\n",
       "      <td>12</td>\n",
       "      <td>1</td>\n",
       "      <td>3.0</td>\n",
       "      <td>2.0</td>\n",
       "      <td>3.0</td>\n",
       "      <td>3.0</td>\n",
       "      <td>0</td>\n",
       "      <td>0</td>\n",
       "      <td>1</td>\n",
       "      <td>1</td>\n",
       "      <td>...</td>\n",
       "      <td>1</td>\n",
       "      <td>0</td>\n",
       "      <td>1</td>\n",
       "      <td>0</td>\n",
       "      <td>0</td>\n",
       "      <td>0</td>\n",
       "      <td>0</td>\n",
       "      <td>0</td>\n",
       "      <td>1.0</td>\n",
       "      <td>car-walk</td>\n",
       "    </tr>\n",
       "    <tr>\n",
       "      <th>4</th>\n",
       "      <td>12</td>\n",
       "      <td>8</td>\n",
       "      <td>4.0</td>\n",
       "      <td>5.0</td>\n",
       "      <td>4.0</td>\n",
       "      <td>3.0</td>\n",
       "      <td>0</td>\n",
       "      <td>0</td>\n",
       "      <td>1</td>\n",
       "      <td>0</td>\n",
       "      <td>...</td>\n",
       "      <td>1</td>\n",
       "      <td>0</td>\n",
       "      <td>0</td>\n",
       "      <td>0</td>\n",
       "      <td>0</td>\n",
       "      <td>0</td>\n",
       "      <td>0</td>\n",
       "      <td>1</td>\n",
       "      <td>0.0</td>\n",
       "      <td>walk-walk</td>\n",
       "    </tr>\n",
       "    <tr>\n",
       "      <th>...</th>\n",
       "      <td>...</td>\n",
       "      <td>...</td>\n",
       "      <td>...</td>\n",
       "      <td>...</td>\n",
       "      <td>...</td>\n",
       "      <td>...</td>\n",
       "      <td>...</td>\n",
       "      <td>...</td>\n",
       "      <td>...</td>\n",
       "      <td>...</td>\n",
       "      <td>...</td>\n",
       "      <td>...</td>\n",
       "      <td>...</td>\n",
       "      <td>...</td>\n",
       "      <td>...</td>\n",
       "      <td>...</td>\n",
       "      <td>...</td>\n",
       "      <td>...</td>\n",
       "      <td>...</td>\n",
       "      <td>...</td>\n",
       "      <td>...</td>\n",
       "    </tr>\n",
       "    <tr>\n",
       "      <th>627</th>\n",
       "      <td>11</td>\n",
       "      <td>1</td>\n",
       "      <td>3.0</td>\n",
       "      <td>5.0</td>\n",
       "      <td>4.0</td>\n",
       "      <td>2.0</td>\n",
       "      <td>0</td>\n",
       "      <td>0</td>\n",
       "      <td>0</td>\n",
       "      <td>0</td>\n",
       "      <td>...</td>\n",
       "      <td>1</td>\n",
       "      <td>0</td>\n",
       "      <td>0</td>\n",
       "      <td>0</td>\n",
       "      <td>0</td>\n",
       "      <td>0</td>\n",
       "      <td>0</td>\n",
       "      <td>1</td>\n",
       "      <td>0.0</td>\n",
       "      <td>walk-walk</td>\n",
       "    </tr>\n",
       "    <tr>\n",
       "      <th>628</th>\n",
       "      <td>11</td>\n",
       "      <td>4</td>\n",
       "      <td>3.0</td>\n",
       "      <td>3.0</td>\n",
       "      <td>3.0</td>\n",
       "      <td>2.0</td>\n",
       "      <td>0</td>\n",
       "      <td>0</td>\n",
       "      <td>0</td>\n",
       "      <td>1</td>\n",
       "      <td>...</td>\n",
       "      <td>0</td>\n",
       "      <td>0</td>\n",
       "      <td>1</td>\n",
       "      <td>0</td>\n",
       "      <td>0</td>\n",
       "      <td>0</td>\n",
       "      <td>0</td>\n",
       "      <td>0</td>\n",
       "      <td>2.0</td>\n",
       "      <td>car-bus</td>\n",
       "    </tr>\n",
       "    <tr>\n",
       "      <th>630</th>\n",
       "      <td>11</td>\n",
       "      <td>8</td>\n",
       "      <td>4.0</td>\n",
       "      <td>5.0</td>\n",
       "      <td>5.0</td>\n",
       "      <td>2.0</td>\n",
       "      <td>0</td>\n",
       "      <td>0</td>\n",
       "      <td>1</td>\n",
       "      <td>0</td>\n",
       "      <td>...</td>\n",
       "      <td>1</td>\n",
       "      <td>0</td>\n",
       "      <td>0</td>\n",
       "      <td>0</td>\n",
       "      <td>0</td>\n",
       "      <td>0</td>\n",
       "      <td>0</td>\n",
       "      <td>1</td>\n",
       "      <td>0.0</td>\n",
       "      <td>walk-walk</td>\n",
       "    </tr>\n",
       "    <tr>\n",
       "      <th>631</th>\n",
       "      <td>9</td>\n",
       "      <td>8</td>\n",
       "      <td>4.0</td>\n",
       "      <td>5.0</td>\n",
       "      <td>5.0</td>\n",
       "      <td>2.0</td>\n",
       "      <td>0</td>\n",
       "      <td>0</td>\n",
       "      <td>1</td>\n",
       "      <td>0</td>\n",
       "      <td>...</td>\n",
       "      <td>1</td>\n",
       "      <td>0</td>\n",
       "      <td>1</td>\n",
       "      <td>0</td>\n",
       "      <td>0</td>\n",
       "      <td>0</td>\n",
       "      <td>0</td>\n",
       "      <td>0</td>\n",
       "      <td>1.0</td>\n",
       "      <td>car-walk</td>\n",
       "    </tr>\n",
       "    <tr>\n",
       "      <th>632</th>\n",
       "      <td>9</td>\n",
       "      <td>7</td>\n",
       "      <td>3.0</td>\n",
       "      <td>1.0</td>\n",
       "      <td>1.0</td>\n",
       "      <td>3.0</td>\n",
       "      <td>0</td>\n",
       "      <td>0</td>\n",
       "      <td>1</td>\n",
       "      <td>1</td>\n",
       "      <td>...</td>\n",
       "      <td>0</td>\n",
       "      <td>0</td>\n",
       "      <td>1</td>\n",
       "      <td>0</td>\n",
       "      <td>0</td>\n",
       "      <td>0</td>\n",
       "      <td>0</td>\n",
       "      <td>0</td>\n",
       "      <td>0.0</td>\n",
       "      <td>car-car</td>\n",
       "    </tr>\n",
       "  </tbody>\n",
       "</table>\n",
       "<p>580 rows × 27 columns</p>\n",
       "</div>"
      ],
      "text/plain": [
       "     age  IMD2019_decile  household_size  mor_travel  aft_travel  #car  \\\n",
       "0     12               1             5.0         1.0         1.0   3.0   \n",
       "1     12               2             4.0         4.0         3.0   NaN   \n",
       "2     12               4             4.0         3.0         3.0   3.0   \n",
       "3     12               1             3.0         2.0         3.0   3.0   \n",
       "4     12               8             4.0         5.0         4.0   3.0   \n",
       "..   ...             ...             ...         ...         ...   ...   \n",
       "627   11               1             3.0         5.0         4.0   2.0   \n",
       "628   11               4             3.0         3.0         3.0   2.0   \n",
       "630   11               8             4.0         5.0         5.0   2.0   \n",
       "631    9               8             4.0         5.0         5.0   2.0   \n",
       "632    9               7             3.0         1.0         1.0   3.0   \n",
       "\n",
       "     ethnicity_Other  ethnicity_Pakistani  ethnicity_White British  \\\n",
       "0                  0                    0                        1   \n",
       "1                  1                    0                        0   \n",
       "2                  0                    0                        1   \n",
       "3                  0                    0                        1   \n",
       "4                  0                    0                        1   \n",
       "..               ...                  ...                      ...   \n",
       "627                0                    0                        0   \n",
       "628                0                    0                        0   \n",
       "630                0                    0                        1   \n",
       "631                0                    0                        1   \n",
       "632                0                    0                        1   \n",
       "\n",
       "     gender_Female  ...  mode_now_Walk  mode_before_Bicycle  \\\n",
       "0                1  ...              0                    0   \n",
       "1                1  ...              1                    0   \n",
       "2                1  ...              1                    0   \n",
       "3                1  ...              1                    0   \n",
       "4                0  ...              1                    0   \n",
       "..             ...  ...            ...                  ...   \n",
       "627              0  ...              1                    0   \n",
       "628              1  ...              0                    0   \n",
       "630              0  ...              1                    0   \n",
       "631              0  ...              1                    0   \n",
       "632              1  ...              0                    0   \n",
       "\n",
       "     mode_before_Car/Van  mode_before_Other bus  mode_before_School Bus  \\\n",
       "0                      1                      0                       0   \n",
       "1                      0                      0                       0   \n",
       "2                      0                      0                       0   \n",
       "3                      1                      0                       0   \n",
       "4                      0                      0                       0   \n",
       "..                   ...                    ...                     ...   \n",
       "627                    0                      0                       0   \n",
       "628                    1                      0                       0   \n",
       "630                    0                      0                       0   \n",
       "631                    1                      0                       0   \n",
       "632                    1                      0                       0   \n",
       "\n",
       "     mode_before_Taxi  mode_before_Train  mode_before_Walk   Y1         Y2  \n",
       "0                   0                  0                 0  0.0    car-car  \n",
       "1                   0                  0                 1  0.0  walk-walk  \n",
       "2                   0                  0                 1  0.0  walk-walk  \n",
       "3                   0                  0                 0  1.0   car-walk  \n",
       "4                   0                  0                 1  0.0  walk-walk  \n",
       "..                ...                ...               ...  ...        ...  \n",
       "627                 0                  0                 1  0.0  walk-walk  \n",
       "628                 0                  0                 0  2.0    car-bus  \n",
       "630                 0                  0                 1  0.0  walk-walk  \n",
       "631                 0                  0                 0  1.0   car-walk  \n",
       "632                 0                  0                 0  0.0    car-car  \n",
       "\n",
       "[580 rows x 27 columns]"
      ]
     },
     "execution_count": 10,
     "metadata": {},
     "output_type": "execute_result"
    }
   ],
   "source": [
    "# delete the unwill_walk (high missing value rate), and obvious collinear variables\n",
    "df1 = df1.drop(['unwill_walk'],axis=1)\n",
    "df1"
   ]
  },
  {
   "cell_type": "code",
   "execution_count": 11,
   "id": "changing-watson",
   "metadata": {},
   "outputs": [
    {
     "data": {
      "text/plain": [
       "<AxesSubplot:>"
      ]
     },
     "execution_count": 11,
     "metadata": {},
     "output_type": "execute_result"
    },
    {
     "data": {
      "image/png": "[encoded data removed]",
      "text/plain": [
       "<Figure size 1800x720 with 2 Axes>"
      ]
     },
     "metadata": {
      "needs_background": "light"
     },
     "output_type": "display_data"
    }
   ],
   "source": [
    "msno.matrix(df1)"
   ]
  },
  {
   "cell_type": "code",
   "execution_count": 12,
   "id": "specialized-hartford",
   "metadata": {
    "scrolled": true
   },
   "outputs": [
    {
     "data": {
      "text/plain": [
       "(489, 27)"
      ]
     },
     "execution_count": 12,
     "metadata": {},
     "output_type": "execute_result"
    }
   ],
   "source": [
    "df1.dropna(axis=0,how='any').shape"
   ]
  },
  {
   "cell_type": "code",
   "execution_count": 13,
   "id": "naughty-jewel",
   "metadata": {},
   "outputs": [
    {
     "data": {
      "text/plain": [
       "Index(['age', 'IMD2019_decile', 'household_size', 'mor_travel', 'aft_travel',\n",
       "       '#car', 'ethnicity_Other', 'ethnicity_Pakistani',\n",
       "       'ethnicity_White British', 'gender_Female', 'gender_Male',\n",
       "       'mode_now_Bicycle', 'mode_now_Car/Van', 'mode_now_Other bus',\n",
       "       'mode_now_School Bus', 'mode_now_Taxi', 'mode_now_Train',\n",
       "       'mode_now_Walk', 'mode_before_Bicycle', 'mode_before_Car/Van',\n",
       "       'mode_before_Other bus', 'mode_before_School Bus', 'mode_before_Taxi',\n",
       "       'mode_before_Train', 'mode_before_Walk', 'Y1', 'Y2'],\n",
       "      dtype='object')"
      ]
     },
     "execution_count": 13,
     "metadata": {},
     "output_type": "execute_result"
    }
   ],
   "source": [
    "df1.columns"
   ]
  },
  {
   "cell_type": "code",
   "execution_count": 14,
   "id": "major-duncan",
   "metadata": {},
   "outputs": [],
   "source": [
    "# feature selection: basic attributes without \n",
    "\n",
    "X1 = df1.dropna(axis=0,how='any')[['age', 'IMD2019_decile', 'household_size', 'mor_travel', 'aft_travel',\n",
    "       '#car',  'ethnicity_Pakistani','ethnicity_White British', 'gender_Female']]\n",
    "Y1 = df1.dropna(axis=0,how='any')['Y1']\n",
    "\n"
   ]
  },
  {
   "cell_type": "code",
   "execution_count": 15,
   "id": "after-submission",
   "metadata": {},
   "outputs": [
    {
     "data": {
      "text/plain": [
       "(489, 9)"
      ]
     },
     "execution_count": 15,
     "metadata": {},
     "output_type": "execute_result"
    }
   ],
   "source": [
    "X1.shape"
   ]
  },
  {
   "cell_type": "code",
   "execution_count": 16,
   "id": "structured-arizona",
   "metadata": {},
   "outputs": [
    {
     "data": {
      "text/plain": [
       "(489,)"
      ]
     },
     "execution_count": 16,
     "metadata": {},
     "output_type": "execute_result"
    }
   ],
   "source": [
    "Y1.shape"
   ]
  },
  {
   "cell_type": "code",
   "execution_count": 17,
   "id": "unauthorized-amsterdam",
   "metadata": {
    "scrolled": true
   },
   "outputs": [
    {
     "data": {
      "text/plain": [
       "<AxesSubplot:>"
      ]
     },
     "execution_count": 17,
     "metadata": {},
     "output_type": "execute_result"
    },
    {
     "data": {
      "image/png": "[encoded data removed]",
      "text/plain": [
       "<Figure size 1800x720 with 2 Axes>"
      ]
     },
     "metadata": {
      "needs_background": "light"
     },
     "output_type": "display_data"
    }
   ],
   "source": [
    "msno.matrix(X1)"
   ]
  },
  {
   "cell_type": "code",
   "execution_count": 19,
   "id": "about-welding",
   "metadata": {},
   "outputs": [
    {
     "data": {
      "text/plain": [
       "PCA(n_components=2)"
      ]
     },
     "execution_count": 19,
     "metadata": {},
     "output_type": "execute_result"
    }
   ],
   "source": [
    "## SOME UNSUPERVISED LEARNING\n",
    "from sklearn.decomposition import PCA\n",
    "pca = PCA(n_components = 2)\n",
    "pca.fit(X1)"
   ]
  },
  {
   "cell_type": "code",
   "execution_count": 20,
   "id": "danish-concern",
   "metadata": {},
   "outputs": [
    {
     "data": {
      "text/plain": [
       "(489, 2)"
      ]
     },
     "execution_count": 20,
     "metadata": {},
     "output_type": "execute_result"
    }
   ],
   "source": [
    "X_pca=pca.transform(X1)\n",
    "X_pca.shape"
   ]
  },
  {
   "cell_type": "code",
   "execution_count": 22,
   "id": "sitting-prague",
   "metadata": {},
   "outputs": [
    {
     "data": {
      "text/plain": [
       "<matplotlib.collections.PathCollection at 0x1cc1143b518>"
      ]
     },
     "execution_count": 22,
     "metadata": {},
     "output_type": "execute_result"
    },
    {
     "data": {
      "image/png": "[encoded data removed]",
      "text/plain": [
       "<Figure size 432x288 with 1 Axes>"
      ]
     },
     "metadata": {
      "needs_background": "light"
     },
     "output_type": "display_data"
    }
   ],
   "source": [
    "import matplotlib.pyplot as plt\n",
    "plt.scatter(X_pca[:,0],X_pca[:,1],c=Y1)"
   ]
  },
  {
   "cell_type": "code",
   "execution_count": 24,
   "id": "atlantic-linux",
   "metadata": {},
   "outputs": [
    {
     "data": {
      "text/plain": [
       "Isomap(n_neighbors=20)"
      ]
     },
     "execution_count": 24,
     "metadata": {},
     "output_type": "execute_result"
    }
   ],
   "source": [
    "## use another way to show the visualization\n",
    "from sklearn.manifold import Isomap\n",
    "isomap = Isomap(n_components = 2, n_neighbors=20)\n",
    "isomap.fit(X1)"
   ]
  },
  {
   "cell_type": "code",
   "execution_count": 25,
   "id": "innocent-labor",
   "metadata": {},
   "outputs": [
    {
     "data": {
      "text/plain": [
       "(489, 2)"
      ]
     },
     "execution_count": 25,
     "metadata": {},
     "output_type": "execute_result"
    }
   ],
   "source": [
    "x_isomap=isomap.transform(X1)\n",
    "x_isomap.shape"
   ]
  },
  {
   "cell_type": "code",
   "execution_count": 26,
   "id": "arranged-walker",
   "metadata": {
    "scrolled": true
   },
   "outputs": [
    {
     "data": {
      "text/plain": [
       "<matplotlib.collections.PathCollection at 0x1cc1180d9e8>"
      ]
     },
     "execution_count": 26,
     "metadata": {},
     "output_type": "execute_result"
    },
    {
     "data": {
      "image/png": "[encoded data removed]",
      "text/plain": [
       "<Figure size 432x288 with 1 Axes>"
      ]
     },
     "metadata": {
      "needs_background": "light"
     },
     "output_type": "display_data"
    }
   ],
   "source": [
    "plt.scatter(x_isomap[:,0],x_isomap[:,1],c=Y1)"
   ]
  },
  {
   "cell_type": "code",
   "execution_count": 27,
   "id": "equal-universe",
   "metadata": {},
   "outputs": [
    {
     "data": {
      "text/plain": [
       " 0.0    399\n",
       " 1.0     41\n",
       "-1.0     35\n",
       " 2.0     14\n",
       "Name: Y1, dtype: int64"
      ]
     },
     "execution_count": 27,
     "metadata": {},
     "output_type": "execute_result"
    }
   ],
   "source": [
    "Y1.value_counts()"
   ]
  },
  {
   "cell_type": "code",
   "execution_count": 31,
   "id": "logical-dance",
   "metadata": {},
   "outputs": [],
   "source": [
    "# classify for Y1\n",
    "from sklearn.model_selection import train_test_split\n",
    "X1_train, X1_test, y1_train, y1_test = train_test_split(X1,Y1,stratify = Y1)"
   ]
  },
  {
   "cell_type": "code",
   "execution_count": 32,
   "id": "unlikely-spencer",
   "metadata": {},
   "outputs": [
    {
     "data": {
      "text/plain": [
       "(366, 9)"
      ]
     },
     "execution_count": 32,
     "metadata": {},
     "output_type": "execute_result"
    }
   ],
   "source": [
    "X1_train.shape"
   ]
  },
  {
   "cell_type": "code",
   "execution_count": 33,
   "id": "robust-asthma",
   "metadata": {},
   "outputs": [
    {
     "name": "stderr",
     "output_type": "stream",
     "text": [
      "C:\\ProgramData\\Anaconda3\\lib\\site-packages\\sklearn\\svm\\_base.py:986: ConvergenceWarning: Liblinear failed to converge, increase the number of iterations.\n",
      "  \"the number of iterations.\", ConvergenceWarning)\n",
      "C:\\ProgramData\\Anaconda3\\lib\\site-packages\\sklearn\\svm\\_base.py:986: ConvergenceWarning: Liblinear failed to converge, increase the number of iterations.\n",
      "  \"the number of iterations.\", ConvergenceWarning)\n",
      "C:\\ProgramData\\Anaconda3\\lib\\site-packages\\sklearn\\svm\\_base.py:986: ConvergenceWarning: Liblinear failed to converge, increase the number of iterations.\n",
      "  \"the number of iterations.\", ConvergenceWarning)\n",
      "C:\\ProgramData\\Anaconda3\\lib\\site-packages\\sklearn\\svm\\_base.py:986: ConvergenceWarning: Liblinear failed to converge, increase the number of iterations.\n",
      "  \"the number of iterations.\", ConvergenceWarning)\n"
     ]
    },
    {
     "data": {
      "text/plain": [
       "OneVsRestClassifier(estimator=LinearSVC(random_state=0))"
      ]
     },
     "execution_count": 33,
     "metadata": {},
     "output_type": "execute_result"
    }
   ],
   "source": [
    "## first, use LinearSVC \n",
    "from sklearn.multiclass import OneVsRestClassifier\n",
    "from sklearn.svm import LinearSVC\n",
    "\n",
    "model = OneVsRestClassifier(LinearSVC(random_state=0))\n",
    "model.fit(X1_train,y1_train)"
   ]
  },
  {
   "cell_type": "code",
   "execution_count": 35,
   "id": "recreational-conflict",
   "metadata": {},
   "outputs": [],
   "source": [
    "from sklearn.metrics import roc_auc_score\n",
    "y_score = model.decision_function(X1_test)\n",
    "#roc_auc_score(y_test,y_score,multi_class='ovr')"
   ]
  },
  {
   "cell_type": "code",
   "execution_count": 36,
   "id": "written-cheat",
   "metadata": {
    "collapsed": true
   },
   "outputs": [
    {
     "data": {
      "text/plain": [
       "array([[-0.82592115,  0.46709349, -0.81686919, -0.9628445 ],\n",
       "       [-0.84278644,  0.49066116, -0.82907176, -0.96030063],\n",
       "       [-0.83647362,  0.37975073, -0.66642122, -0.98939352],\n",
       "       [-0.80213439,  0.49788826, -0.85041493, -0.95562816],\n",
       "       [-0.92462992,  0.62796764, -0.94983301, -0.9163726 ],\n",
       "       [-0.74819751,  0.43606542, -0.851814  , -0.96558141],\n",
       "       [-0.87553306,  0.48809147, -0.84951414, -0.90615233],\n",
       "       [-0.74634907,  0.5071749 , -1.03065073, -0.92057302],\n",
       "       [-0.79730308,  0.56969877, -0.9803894 , -0.9766049 ],\n",
       "       [-0.84775856,  0.4024395 , -0.79321585, -0.93444702],\n",
       "       [-0.84426787,  0.56248313, -0.86219475, -0.96877829],\n",
       "       [-0.88651695,  0.66455854, -0.91083116, -0.94034122],\n",
       "       [-0.8583319 ,  0.60570802, -0.93188859, -0.9448683 ],\n",
       "       [-0.93364131,  0.57416678, -0.71915721, -0.98439613],\n",
       "       [-0.83823506,  0.59290397, -0.89537634, -0.96789205],\n",
       "       [-0.7560556 ,  0.51630652, -1.03712253, -0.92833029],\n",
       "       [-0.78159319,  0.5689618 , -1.02675205, -0.94058124],\n",
       "       [-0.85379254,  0.40376635, -0.63789658, -0.98236043],\n",
       "       [-0.95510714,  0.51416843, -0.78781142, -0.92357368],\n",
       "       [-0.86154228,  0.3937862 , -0.78784745, -0.92154008],\n",
       "       [-0.86161518,  0.61032843, -0.98384195, -0.91823433],\n",
       "       [-1.01845764,  0.51806975, -0.64490976, -0.96468399],\n",
       "       [-0.95846692,  0.57672742, -0.81577936, -0.92286669],\n",
       "       [-0.90217079,  0.41155213, -0.61521472, -0.98459372],\n",
       "       [-0.77923833,  0.4859354 , -1.00494364, -0.87483321],\n",
       "       [-0.94335473,  0.61331509, -0.85806098, -0.92457112],\n",
       "       [-0.84446303,  0.54860902, -0.93300119, -0.92088925],\n",
       "       [-1.0120906 ,  0.60024527, -0.81049391, -0.91014353],\n",
       "       [-0.81910013,  0.54255195, -0.87753303, -0.97050262],\n",
       "       [-0.85784102,  0.62058782, -0.94781746, -0.94139162],\n",
       "       [-0.95760349,  0.51348193, -0.6344873 , -0.9981933 ],\n",
       "       [-0.93481869,  0.61440575, -0.91213472, -0.91664754],\n",
       "       [-0.84626257,  0.52938918, -0.90169537, -0.92281456],\n",
       "       [-0.84234398,  0.52979816, -0.93449794, -0.91397364],\n",
       "       [-0.71347119,  0.5210282 , -0.96744208, -0.95601436],\n",
       "       [-0.84996119,  0.40863966, -0.84134948, -0.90641122],\n",
       "       [-0.76921591,  0.62951529, -1.1127387 , -0.92535668],\n",
       "       [-0.80900463,  0.56119208, -0.88804378, -0.94972104],\n",
       "       [-0.8808298 ,  0.62665196, -1.00666002, -0.91377881],\n",
       "       [-0.68665631,  0.42112297, -0.8985038 , -0.96976992],\n",
       "       [-0.9415601 ,  0.50318814, -0.82105161, -0.91332355],\n",
       "       [-0.73675268,  0.48109714, -0.93681672, -0.95732381],\n",
       "       [-0.77059499,  0.50682121, -0.93021433, -0.96452025],\n",
       "       [-1.01506993,  0.51555375, -0.6207988 , -0.98208895],\n",
       "       [-0.87104275,  0.43227292, -0.66396266, -0.97210145],\n",
       "       [-0.83618091,  0.42574593, -0.75588913, -0.96047126],\n",
       "       [-0.87374252,  0.50828342, -0.74061925, -1.00736517],\n",
       "       [-0.83373236,  0.50536308, -0.91073043, -0.97040646],\n",
       "       [-0.86892064,  0.61132018, -0.95205459, -0.93405734],\n",
       "       [-0.77301472,  0.37059258, -0.79249434, -0.98231644],\n",
       "       [-0.93718004,  0.52113774, -0.87060867, -0.90478868],\n",
       "       [-0.77951176,  0.5077969 , -0.94757392, -0.93141244],\n",
       "       [-0.87562888,  0.38496823, -0.7447622 , -0.93783223],\n",
       "       [-0.98698351,  0.51405876, -0.76094719, -0.93564885],\n",
       "       [-0.77955588,  0.36460262, -0.83400556, -0.93808354],\n",
       "       [-0.92815722,  0.59151132, -0.90623464, -0.91609556],\n",
       "       [-0.93216904,  0.50906679, -0.84977511, -0.90246212],\n",
       "       [-0.9683387 ,  0.51013845, -0.71937593, -0.93692797],\n",
       "       [-0.69691718,  0.50959823, -1.04800465, -0.9221378 ],\n",
       "       [-0.80704784,  0.54208031, -1.03152284, -0.88114342],\n",
       "       [-0.80480432,  0.38961384, -0.71165221, -1.00824742],\n",
       "       [-0.87474859,  0.63281559, -0.95034429, -0.95574288],\n",
       "       [-0.78752974,  0.52031751, -0.9210851 , -0.95736543],\n",
       "       [-0.90741848,  0.40398949, -0.66392007, -0.96376321],\n",
       "       [-0.85517102,  0.62896143, -1.048075  , -0.93873245],\n",
       "       [-0.84540754,  0.53417717, -0.87634513, -0.91987671],\n",
       "       [-0.87496377,  0.61936901, -0.96047622, -0.9085144 ],\n",
       "       [-0.9440656 ,  0.50922361, -0.83146839, -0.91448683],\n",
       "       [-0.79215401,  0.63461693, -1.05077502, -0.94646825],\n",
       "       [-0.78356103,  0.55005496, -0.93959069, -0.9274462 ],\n",
       "       [-0.97719021,  0.52405808, -0.70049749, -0.94174739],\n",
       "       [-0.82730456,  0.48716389, -0.85623774, -0.92132377],\n",
       "       [-0.8722389 ,  0.40574693, -0.68934231, -0.96111124],\n",
       "       [-0.97553974,  0.5132346 , -0.71543096, -0.94352196],\n",
       "       [-0.71299763,  0.46657102, -1.02132426, -0.91685325],\n",
       "       [-0.7963379 ,  0.5914329 , -1.04240135, -0.92915899],\n",
       "       [-0.76811667,  0.50205426, -0.90814149, -0.94185088],\n",
       "       [-0.88555251,  0.62498116, -0.98064221, -0.89770343],\n",
       "       [-0.77867823,  0.50639789, -0.93996354, -0.95254601],\n",
       "       [-0.74648639,  0.49149729, -0.93163247, -0.94357499],\n",
       "       [-0.82263387,  0.41476563, -0.78912932, -0.95022113],\n",
       "       [-0.85215122,  0.39966486, -0.81657095, -0.91067865],\n",
       "       [-0.91838876,  0.52617306, -0.76431477, -0.95652216],\n",
       "       [-0.78506046,  0.43155826, -0.74028242, -0.98023176],\n",
       "       [-1.0283695 ,  0.55915779, -0.77393907, -0.92482905],\n",
       "       [-0.92057879,  0.51719826, -0.73953624, -0.9607896 ],\n",
       "       [-0.89774098,  0.54055348, -0.82656331, -0.98380237],\n",
       "       [-0.87560362,  0.6280276 , -0.97569454, -0.95868074],\n",
       "       [-0.9581522 ,  0.50040563, -0.78838314, -0.93077897],\n",
       "       [-0.89048566,  0.63482109, -0.89232557, -0.97026045],\n",
       "       [-1.00619242,  0.54522402, -0.84328507, -0.89591428],\n",
       "       [-0.82900616,  0.50776743, -0.74361141, -1.01436067],\n",
       "       [-0.95891141,  0.59874088, -0.91848533, -0.90203693],\n",
       "       [-0.80908683,  0.40378534, -0.82236951, -0.939971  ],\n",
       "       [-0.85400052,  0.61873915, -0.98752945, -0.93889876],\n",
       "       [-0.91899958,  0.38913604, -0.61041805, -0.97889207],\n",
       "       [-0.7982558 ,  0.51025206, -0.84223283, -0.96955644],\n",
       "       [-0.72872829,  0.5224325 , -0.98490238, -0.9721402 ],\n",
       "       [-0.83419612,  0.58911557, -0.9449628 , -0.94542913],\n",
       "       [-0.74221392,  0.60524854, -0.98328828, -0.96644617],\n",
       "       [-0.79684954,  0.63167761, -1.03641327, -0.95189896],\n",
       "       [-0.62331217,  0.44833008, -1.03833776, -0.94549268],\n",
       "       [-0.86888256,  0.62553264, -0.90416049, -0.95047847],\n",
       "       [-0.92418798,  0.49320639, -0.75766608, -0.95030437],\n",
       "       [-0.84295898,  0.61379433, -1.03118642, -0.9298119 ],\n",
       "       [-0.7914481 ,  0.52439721, -0.99052329, -0.88962783],\n",
       "       [-0.80772472,  0.50660443, -0.92265952, -0.9101874 ],\n",
       "       [-0.78153316,  0.46801457, -0.78388079, -0.98050881],\n",
       "       [-0.78453442,  0.48330597, -0.79607822, -0.96885619],\n",
       "       [-0.7510446 ,  0.50423557, -1.01628898, -0.92600373],\n",
       "       [-0.91752643,  0.59275039, -0.79350362, -0.9865899 ],\n",
       "       [-0.96245005,  0.63986277, -0.80450035, -0.94906388],\n",
       "       [-0.8444143 ,  0.63849191, -0.94544651, -0.97592637],\n",
       "       [-0.70225378,  0.46210078, -0.90819441, -0.96715958],\n",
       "       [-0.68128009,  0.44481609, -0.9669101 , -0.95185147],\n",
       "       [-0.80487658,  0.48429015, -0.8887035 , -0.93363437],\n",
       "       [-0.87060248,  0.57055365, -0.84243541, -0.95673791],\n",
       "       [-0.85800546,  0.50627792, -0.79863796, -0.9928476 ],\n",
       "       [-0.96145314,  0.52205258, -0.7585162 , -0.92722982],\n",
       "       [-0.88345404,  0.48796905, -0.71728104, -0.95584009],\n",
       "       [-0.91204275,  0.51828891, -0.79360999, -0.95286602],\n",
       "       [-0.85637781,  0.65636074, -0.97673982, -0.91263567],\n",
       "       [-0.99917759,  0.63458013, -0.9917379 , -0.84265905]])"
      ]
     },
     "execution_count": 36,
     "metadata": {},
     "output_type": "execute_result"
    }
   ],
   "source": [
    "y_score"
   ]
  },
  {
   "cell_type": "code",
   "execution_count": 37,
   "id": "approved-petroleum",
   "metadata": {},
   "outputs": [],
   "source": [
    "y_pred = model.predict(X1_test)"
   ]
  },
  {
   "cell_type": "code",
   "execution_count": 38,
   "id": "consolidated-trainer",
   "metadata": {},
   "outputs": [
    {
     "data": {
      "text/plain": [
       "array([[  0,   9,   0,   0],\n",
       "       [  0, 100,   0,   0],\n",
       "       [  0,  10,   0,   0],\n",
       "       [  0,   4,   0,   0]], dtype=int64)"
      ]
     },
     "execution_count": 38,
     "metadata": {},
     "output_type": "execute_result"
    }
   ],
   "source": [
    "from sklearn.metrics import confusion_matrix\n",
    "confusion_matrix(y_test,y_pred)"
   ]
  },
  {
   "cell_type": "code",
   "execution_count": 39,
   "id": "supported-employer",
   "metadata": {
    "collapsed": true
   },
   "outputs": [
    {
     "name": "stdout",
     "output_type": "stream",
     "text": [
      "              precision    recall  f1-score   support\n",
      "\n",
      "        -1.0       0.00      0.00      0.00         9\n",
      "         0.0       0.81      1.00      0.90       100\n",
      "         1.0       0.00      0.00      0.00        10\n",
      "         2.0       0.00      0.00      0.00         4\n",
      "\n",
      "    accuracy                           0.81       123\n",
      "   macro avg       0.20      0.25      0.22       123\n",
      "weighted avg       0.66      0.81      0.73       123\n",
      "\n"
     ]
    },
    {
     "name": "stderr",
     "output_type": "stream",
     "text": [
      "C:\\ProgramData\\Anaconda3\\lib\\site-packages\\sklearn\\metrics\\_classification.py:1245: UndefinedMetricWarning: Precision and F-score are ill-defined and being set to 0.0 in labels with no predicted samples. Use `zero_division` parameter to control this behavior.\n",
      "  _warn_prf(average, modifier, msg_start, len(result))\n",
      "C:\\ProgramData\\Anaconda3\\lib\\site-packages\\sklearn\\metrics\\_classification.py:1245: UndefinedMetricWarning: Precision and F-score are ill-defined and being set to 0.0 in labels with no predicted samples. Use `zero_division` parameter to control this behavior.\n",
      "  _warn_prf(average, modifier, msg_start, len(result))\n",
      "C:\\ProgramData\\Anaconda3\\lib\\site-packages\\sklearn\\metrics\\_classification.py:1245: UndefinedMetricWarning: Precision and F-score are ill-defined and being set to 0.0 in labels with no predicted samples. Use `zero_division` parameter to control this behavior.\n",
      "  _warn_prf(average, modifier, msg_start, len(result))\n"
     ]
    }
   ],
   "source": [
    "from sklearn.metrics import classification_report\n",
    "print(classification_report(y_test,y_pred))"
   ]
  },
  {
   "cell_type": "code",
   "execution_count": 40,
   "id": "eligible-speaker",
   "metadata": {
    "collapsed": true
   },
   "outputs": [
    {
     "name": "stderr",
     "output_type": "stream",
     "text": [
      "C:\\ProgramData\\Anaconda3\\lib\\site-packages\\sklearn\\svm\\_base.py:986: ConvergenceWarning: Liblinear failed to converge, increase the number of iterations.\n",
      "  \"the number of iterations.\", ConvergenceWarning)\n",
      "C:\\ProgramData\\Anaconda3\\lib\\site-packages\\sklearn\\svm\\_base.py:986: ConvergenceWarning: Liblinear failed to converge, increase the number of iterations.\n",
      "  \"the number of iterations.\", ConvergenceWarning)\n",
      "C:\\ProgramData\\Anaconda3\\lib\\site-packages\\sklearn\\svm\\_base.py:986: ConvergenceWarning: Liblinear failed to converge, increase the number of iterations.\n",
      "  \"the number of iterations.\", ConvergenceWarning)\n",
      "C:\\ProgramData\\Anaconda3\\lib\\site-packages\\sklearn\\svm\\_base.py:986: ConvergenceWarning: Liblinear failed to converge, increase the number of iterations.\n",
      "  \"the number of iterations.\", ConvergenceWarning)\n",
      "C:\\ProgramData\\Anaconda3\\lib\\site-packages\\sklearn\\svm\\_base.py:986: ConvergenceWarning: Liblinear failed to converge, increase the number of iterations.\n",
      "  \"the number of iterations.\", ConvergenceWarning)\n",
      "C:\\ProgramData\\Anaconda3\\lib\\site-packages\\sklearn\\svm\\_base.py:986: ConvergenceWarning: Liblinear failed to converge, increase the number of iterations.\n",
      "  \"the number of iterations.\", ConvergenceWarning)\n",
      "C:\\ProgramData\\Anaconda3\\lib\\site-packages\\sklearn\\svm\\_base.py:986: ConvergenceWarning: Liblinear failed to converge, increase the number of iterations.\n",
      "  \"the number of iterations.\", ConvergenceWarning)\n",
      "C:\\ProgramData\\Anaconda3\\lib\\site-packages\\sklearn\\svm\\_base.py:986: ConvergenceWarning: Liblinear failed to converge, increase the number of iterations.\n",
      "  \"the number of iterations.\", ConvergenceWarning)\n",
      "C:\\ProgramData\\Anaconda3\\lib\\site-packages\\sklearn\\svm\\_base.py:986: ConvergenceWarning: Liblinear failed to converge, increase the number of iterations.\n",
      "  \"the number of iterations.\", ConvergenceWarning)\n",
      "C:\\ProgramData\\Anaconda3\\lib\\site-packages\\sklearn\\svm\\_base.py:986: ConvergenceWarning: Liblinear failed to converge, increase the number of iterations.\n",
      "  \"the number of iterations.\", ConvergenceWarning)\n",
      "C:\\ProgramData\\Anaconda3\\lib\\site-packages\\sklearn\\svm\\_base.py:986: ConvergenceWarning: Liblinear failed to converge, increase the number of iterations.\n",
      "  \"the number of iterations.\", ConvergenceWarning)\n",
      "C:\\ProgramData\\Anaconda3\\lib\\site-packages\\sklearn\\svm\\_base.py:986: ConvergenceWarning: Liblinear failed to converge, increase the number of iterations.\n",
      "  \"the number of iterations.\", ConvergenceWarning)\n",
      "C:\\ProgramData\\Anaconda3\\lib\\site-packages\\sklearn\\svm\\_base.py:986: ConvergenceWarning: Liblinear failed to converge, increase the number of iterations.\n",
      "  \"the number of iterations.\", ConvergenceWarning)\n",
      "C:\\ProgramData\\Anaconda3\\lib\\site-packages\\sklearn\\svm\\_base.py:986: ConvergenceWarning: Liblinear failed to converge, increase the number of iterations.\n",
      "  \"the number of iterations.\", ConvergenceWarning)\n",
      "C:\\ProgramData\\Anaconda3\\lib\\site-packages\\sklearn\\svm\\_base.py:986: ConvergenceWarning: Liblinear failed to converge, increase the number of iterations.\n",
      "  \"the number of iterations.\", ConvergenceWarning)\n",
      "C:\\ProgramData\\Anaconda3\\lib\\site-packages\\sklearn\\svm\\_base.py:986: ConvergenceWarning: Liblinear failed to converge, increase the number of iterations.\n",
      "  \"the number of iterations.\", ConvergenceWarning)\n",
      "C:\\ProgramData\\Anaconda3\\lib\\site-packages\\sklearn\\svm\\_base.py:986: ConvergenceWarning: Liblinear failed to converge, increase the number of iterations.\n",
      "  \"the number of iterations.\", ConvergenceWarning)\n",
      "C:\\ProgramData\\Anaconda3\\lib\\site-packages\\sklearn\\svm\\_base.py:986: ConvergenceWarning: Liblinear failed to converge, increase the number of iterations.\n",
      "  \"the number of iterations.\", ConvergenceWarning)\n",
      "C:\\ProgramData\\Anaconda3\\lib\\site-packages\\sklearn\\svm\\_base.py:986: ConvergenceWarning: Liblinear failed to converge, increase the number of iterations.\n",
      "  \"the number of iterations.\", ConvergenceWarning)\n",
      "C:\\ProgramData\\Anaconda3\\lib\\site-packages\\sklearn\\svm\\_base.py:986: ConvergenceWarning: Liblinear failed to converge, increase the number of iterations.\n",
      "  \"the number of iterations.\", ConvergenceWarning)\n",
      "C:\\ProgramData\\Anaconda3\\lib\\site-packages\\sklearn\\svm\\_base.py:986: ConvergenceWarning: Liblinear failed to converge, increase the number of iterations.\n",
      "  \"the number of iterations.\", ConvergenceWarning)\n",
      "C:\\ProgramData\\Anaconda3\\lib\\site-packages\\sklearn\\svm\\_base.py:986: ConvergenceWarning: Liblinear failed to converge, increase the number of iterations.\n",
      "  \"the number of iterations.\", ConvergenceWarning)\n",
      "C:\\ProgramData\\Anaconda3\\lib\\site-packages\\sklearn\\svm\\_base.py:986: ConvergenceWarning: Liblinear failed to converge, increase the number of iterations.\n",
      "  \"the number of iterations.\", ConvergenceWarning)\n",
      "C:\\ProgramData\\Anaconda3\\lib\\site-packages\\sklearn\\svm\\_base.py:986: ConvergenceWarning: Liblinear failed to converge, increase the number of iterations.\n",
      "  \"the number of iterations.\", ConvergenceWarning)\n",
      "C:\\ProgramData\\Anaconda3\\lib\\site-packages\\sklearn\\svm\\_base.py:986: ConvergenceWarning: Liblinear failed to converge, increase the number of iterations.\n",
      "  \"the number of iterations.\", ConvergenceWarning)\n",
      "C:\\ProgramData\\Anaconda3\\lib\\site-packages\\sklearn\\svm\\_base.py:986: ConvergenceWarning: Liblinear failed to converge, increase the number of iterations.\n",
      "  \"the number of iterations.\", ConvergenceWarning)\n",
      "C:\\ProgramData\\Anaconda3\\lib\\site-packages\\sklearn\\svm\\_base.py:986: ConvergenceWarning: Liblinear failed to converge, increase the number of iterations.\n",
      "  \"the number of iterations.\", ConvergenceWarning)\n",
      "C:\\ProgramData\\Anaconda3\\lib\\site-packages\\sklearn\\svm\\_base.py:986: ConvergenceWarning: Liblinear failed to converge, increase the number of iterations.\n",
      "  \"the number of iterations.\", ConvergenceWarning)\n",
      "C:\\ProgramData\\Anaconda3\\lib\\site-packages\\sklearn\\svm\\_base.py:986: ConvergenceWarning: Liblinear failed to converge, increase the number of iterations.\n",
      "  \"the number of iterations.\", ConvergenceWarning)\n",
      "C:\\ProgramData\\Anaconda3\\lib\\site-packages\\sklearn\\svm\\_base.py:986: ConvergenceWarning: Liblinear failed to converge, increase the number of iterations.\n",
      "  \"the number of iterations.\", ConvergenceWarning)\n",
      "C:\\ProgramData\\Anaconda3\\lib\\site-packages\\sklearn\\svm\\_base.py:986: ConvergenceWarning: Liblinear failed to converge, increase the number of iterations.\n",
      "  \"the number of iterations.\", ConvergenceWarning)\n",
      "C:\\ProgramData\\Anaconda3\\lib\\site-packages\\sklearn\\svm\\_base.py:986: ConvergenceWarning: Liblinear failed to converge, increase the number of iterations.\n",
      "  \"the number of iterations.\", ConvergenceWarning)\n",
      "C:\\ProgramData\\Anaconda3\\lib\\site-packages\\sklearn\\svm\\_base.py:986: ConvergenceWarning: Liblinear failed to converge, increase the number of iterations.\n",
      "  \"the number of iterations.\", ConvergenceWarning)\n",
      "C:\\ProgramData\\Anaconda3\\lib\\site-packages\\sklearn\\svm\\_base.py:986: ConvergenceWarning: Liblinear failed to converge, increase the number of iterations.\n",
      "  \"the number of iterations.\", ConvergenceWarning)\n",
      "C:\\ProgramData\\Anaconda3\\lib\\site-packages\\sklearn\\svm\\_base.py:986: ConvergenceWarning: Liblinear failed to converge, increase the number of iterations.\n",
      "  \"the number of iterations.\", ConvergenceWarning)\n",
      "C:\\ProgramData\\Anaconda3\\lib\\site-packages\\sklearn\\svm\\_base.py:986: ConvergenceWarning: Liblinear failed to converge, increase the number of iterations.\n",
      "  \"the number of iterations.\", ConvergenceWarning)\n",
      "C:\\ProgramData\\Anaconda3\\lib\\site-packages\\sklearn\\svm\\_base.py:986: ConvergenceWarning: Liblinear failed to converge, increase the number of iterations.\n",
      "  \"the number of iterations.\", ConvergenceWarning)\n",
      "C:\\ProgramData\\Anaconda3\\lib\\site-packages\\sklearn\\svm\\_base.py:986: ConvergenceWarning: Liblinear failed to converge, increase the number of iterations.\n",
      "  \"the number of iterations.\", ConvergenceWarning)\n",
      "C:\\ProgramData\\Anaconda3\\lib\\site-packages\\sklearn\\svm\\_base.py:986: ConvergenceWarning: Liblinear failed to converge, increase the number of iterations.\n",
      "  \"the number of iterations.\", ConvergenceWarning)\n",
      "C:\\ProgramData\\Anaconda3\\lib\\site-packages\\sklearn\\svm\\_base.py:986: ConvergenceWarning: Liblinear failed to converge, increase the number of iterations.\n",
      "  \"the number of iterations.\", ConvergenceWarning)\n"
     ]
    },
    {
     "data": {
      "text/plain": [
       "array([0.81632653, 0.81632653, 0.81632653, 0.81632653, 0.81632653,\n",
       "       0.81632653, 0.81632653, 0.81632653, 0.81632653, 0.8125    ])"
      ]
     },
     "execution_count": 40,
     "metadata": {},
     "output_type": "execute_result"
    }
   ],
   "source": [
    "## check the cross-validation score\n",
    "\n",
    "from sklearn.model_selection import cross_val_score\n",
    "scores = cross_val_score(model,X1,Y1,cv=10)\n",
    "scores"
   ]
  },
  {
   "cell_type": "code",
   "execution_count": 41,
   "id": "graphic-copying",
   "metadata": {},
   "outputs": [
    {
     "name": "stdout",
     "output_type": "stream",
     "text": [
      "Accuracy: 0.82 (+/- 0.00)\n"
     ]
    }
   ],
   "source": [
    "# the deviation and mean of the scores here\n",
    "print('Accuracy: %0.2f (+/- %0.2f)' % (scores.mean(),scores.std()*2))"
   ]
  },
  {
   "cell_type": "code",
   "execution_count": 42,
   "id": "featured-dining",
   "metadata": {},
   "outputs": [
    {
     "data": {
      "text/plain": [
       "LogisticRegression(solver='liblinear')"
      ]
     },
     "execution_count": 42,
     "metadata": {},
     "output_type": "execute_result"
    }
   ],
   "source": [
    "## for method 1, use another model to predict :logistic regression\n",
    "\n",
    "from sklearn.linear_model import LogisticRegression\n",
    "\n",
    "clf = LogisticRegression(solver=\"liblinear\")\n",
    "clf.fit(X1_train,y1_train)\n",
    "\n"
   ]
  },
  {
   "cell_type": "code",
   "execution_count": 49,
   "id": "recovered-circus",
   "metadata": {},
   "outputs": [],
   "source": [
    "y_score = clf.predict_proba(X1_test)"
   ]
  },
  {
   "cell_type": "code",
   "execution_count": 44,
   "id": "fifth-answer",
   "metadata": {},
   "outputs": [
    {
     "data": {
      "text/plain": [
       "(123,)"
      ]
     },
     "execution_count": 44,
     "metadata": {},
     "output_type": "execute_result"
    }
   ],
   "source": [
    "y_test.shape"
   ]
  },
  {
   "cell_type": "code",
   "execution_count": 45,
   "id": "competitive-score",
   "metadata": {},
   "outputs": [
    {
     "data": {
      "text/plain": [
       "0.635532111547533"
      ]
     },
     "execution_count": 45,
     "metadata": {},
     "output_type": "execute_result"
    }
   ],
   "source": [
    "roc_auc_score(y_train, clf.predict_proba(X_train), multi_class='ovr')"
   ]
  },
  {
   "cell_type": "code",
   "execution_count": 46,
   "id": "environmental-loading",
   "metadata": {},
   "outputs": [
    {
     "data": {
      "text/plain": [
       "1.0"
      ]
     },
     "execution_count": 46,
     "metadata": {},
     "output_type": "execute_result"
    }
   ],
   "source": [
    "sum(y_score[1])"
   ]
  },
  {
   "cell_type": "code",
   "execution_count": null,
   "id": "difficult-marina",
   "metadata": {},
   "outputs": [],
   "source": [
    "Y.value_counts()"
   ]
  },
  {
   "cell_type": "code",
   "execution_count": 50,
   "id": "generous-plain",
   "metadata": {},
   "outputs": [
    {
     "data": {
      "text/plain": [
       "array([0.81632653, 0.81632653, 0.81632653, 0.81632653, 0.81632653,\n",
       "       0.81632653, 0.81632653, 0.81632653, 0.81632653, 0.8125    ])"
      ]
     },
     "execution_count": 50,
     "metadata": {},
     "output_type": "execute_result"
    }
   ],
   "source": [
    "# the cross-validation\n",
    "scores1 = cross_val_score(clf,X1,Y1,cv=10)\n",
    "scores1"
   ]
  },
  {
   "cell_type": "code",
   "execution_count": 51,
   "id": "continuous-frame",
   "metadata": {},
   "outputs": [
    {
     "name": "stdout",
     "output_type": "stream",
     "text": [
      "Accuracy: 0.82 (+/- 0.00)\n"
     ]
    }
   ],
   "source": [
    "print('Accuracy: %0.2f (+/- %0.2f)' % (scores1.mean(),scores1.std()*2))"
   ]
  },
  {
   "cell_type": "code",
   "execution_count": 53,
   "id": "stylish-lottery",
   "metadata": {},
   "outputs": [
    {
     "data": {
      "text/plain": [
       "array([[  0,   9,   0,   0],\n",
       "       [  0, 100,   0,   0],\n",
       "       [  0,  10,   0,   0],\n",
       "       [  0,   4,   0,   0]], dtype=int64)"
      ]
     },
     "execution_count": 53,
     "metadata": {},
     "output_type": "execute_result"
    }
   ],
   "source": [
    "y_pred1 = clf.predict(X1_test)\n",
    "confusion_matrix(y_test,y_pred1)"
   ]
  },
  {
   "cell_type": "markdown",
   "id": "elementary-looking",
   "metadata": {},
   "source": [
    "## for method 2, the target label is different. Constructing Y2 in excel.  \n",
    "We assume that:  \n",
    " &emsp; &emsp;&emsp; &emsp; &emsp; &emsp;&emsp; &emsp; If modes are not changed:   \n",
    "  &emsp; &emsp;&emsp; &emsp; &emsp; &emsp;&emsp; &emsp; &emsp; &emsp; &emsp; &emsp;'walk-walk'  \n",
    "  &emsp; &emsp;&emsp; &emsp; &emsp; &emsp;&emsp; &emsp; &emsp; &emsp; &emsp; &emsp;'bus-bus'  \n",
    "  &emsp; &emsp;&emsp; &emsp; &emsp; &emsp;&emsp; &emsp; &emsp; &emsp; &emsp; &emsp;'car-car'  \n",
    " &emsp; &emsp;&emsp; &emsp; &emsp; &emsp;&emsp; &emsp; If car -> walk: 'car-walk'  \n",
    " &emsp; &emsp;&emsp; &emsp; &emsp; &emsp;&emsp; &emsp; If car ->bus: 'car-bus'  \n",
    " &emsp; &emsp;&emsp; &emsp; &emsp; &emsp;&emsp; &emsp; If walk -> bus: 'walk-bus'  \n",
    " &emsp; &emsp;&emsp; &emsp; &emsp; &emsp;&emsp; &emsp; If walk ->car: 'walk-car'  \n",
    " &emsp; &emsp;&emsp; &emsp; &emsp; &emsp;&emsp; &emsp; If bus -> car: 'bus-car'  \n",
    " &emsp; &emsp;&emsp; &emsp; &emsp; &emsp;&emsp; &emsp; If bus -> walk: 'bus-walk'\n",
    "  "
   ]
  },
  {
   "cell_type": "code",
   "execution_count": 55,
   "id": "saving-burning",
   "metadata": {
    "scrolled": true
   },
   "outputs": [
    {
     "data": {
      "text/plain": [
       "car-car      255\n",
       "walk-walk    188\n",
       "walk-car      44\n",
       "car-walk      37\n",
       "bus-bus       32\n",
       "car-bus       15\n",
       "walk-bus       8\n",
       "bus-walk       1\n",
       "Name: Y2, dtype: int64"
      ]
     },
     "execution_count": 55,
     "metadata": {},
     "output_type": "execute_result"
    }
   ],
   "source": [
    "# Y2 is the target variable for method 2.\n",
    "df1['Y2'].value_counts()"
   ]
  },
  {
   "cell_type": "code",
   "execution_count": 56,
   "id": "understood-pickup",
   "metadata": {},
   "outputs": [
    {
     "data": {
      "text/plain": [
       "(556, 27)"
      ]
     },
     "execution_count": 56,
     "metadata": {},
     "output_type": "execute_result"
    }
   ],
   "source": [
    "df2=df1[(df1['Y2']!='bus-walk')&(df1['Y2']!='bus-car')&(df1['Y2']!='walk-bus')&(df1['Y2']!='car-bus')]\n",
    "df2.shape"
   ]
  },
  {
   "cell_type": "code",
   "execution_count": 57,
   "id": "desperate-novelty",
   "metadata": {},
   "outputs": [
    {
     "data": {
      "text/plain": [
       "car-car      255\n",
       "walk-walk    188\n",
       "walk-car      44\n",
       "car-walk      37\n",
       "bus-bus       32\n",
       "Name: Y2, dtype: int64"
      ]
     },
     "execution_count": 57,
     "metadata": {},
     "output_type": "execute_result"
    }
   ],
   "source": [
    "df2['Y2'].value_counts()"
   ]
  },
  {
   "cell_type": "code",
   "execution_count": 58,
   "id": "wicked-possibility",
   "metadata": {},
   "outputs": [],
   "source": [
    "X2 = df2.dropna(axis=0,how='any')[['age', 'IMD2019_decile', 'household_size', 'mor_travel', 'aft_travel',\n",
    "       '#car',  'ethnicity_Pakistani','ethnicity_White British', 'gender_Female']]\n",
    "\n",
    "Y2 = df2.dropna(axis=0,how='any')['Y2']\n",
    "Y2 = LabelBinarizer().fit_transform(Y2)"
   ]
  },
  {
   "cell_type": "code",
   "execution_count": 60,
   "id": "naughty-communist",
   "metadata": {},
   "outputs": [
    {
     "data": {
      "text/plain": [
       "array([[0, 1, 0, 0, 0],\n",
       "       [0, 0, 0, 0, 1],\n",
       "       [0, 0, 1, 0, 0],\n",
       "       ...,\n",
       "       [0, 0, 0, 0, 1],\n",
       "       [0, 0, 1, 0, 0],\n",
       "       [0, 1, 0, 0, 0]])"
      ]
     },
     "execution_count": 60,
     "metadata": {},
     "output_type": "execute_result"
    }
   ],
   "source": [
    "Y2"
   ]
  },
  {
   "cell_type": "code",
   "execution_count": 61,
   "id": "aerial-comparative",
   "metadata": {},
   "outputs": [
    {
     "data": {
      "text/plain": [
       "(467, 9)"
      ]
     },
     "execution_count": 61,
     "metadata": {},
     "output_type": "execute_result"
    }
   ],
   "source": [
    "X2.shape"
   ]
  },
  {
   "cell_type": "code",
   "execution_count": 62,
   "id": "pressed-traveler",
   "metadata": {},
   "outputs": [
    {
     "data": {
      "text/plain": [
       "(467, 5)"
      ]
     },
     "execution_count": 62,
     "metadata": {},
     "output_type": "execute_result"
    }
   ],
   "source": [
    "Y2.shape"
   ]
  },
  {
   "cell_type": "code",
   "execution_count": 63,
   "id": "coastal-manual",
   "metadata": {},
   "outputs": [],
   "source": [
    "from sklearn.multiclass import OneVsRestClassifier\n",
    "from sklearn.svm import LinearSVC\n",
    "X2_train, X2_test, y2_train, y2_test = train_test_split(X2,Y2,stratify = Y2)\n"
   ]
  },
  {
   "cell_type": "code",
   "execution_count": 69,
   "id": "white-immigration",
   "metadata": {},
   "outputs": [
    {
     "name": "stderr",
     "output_type": "stream",
     "text": [
      "C:\\ProgramData\\Anaconda3\\lib\\site-packages\\sklearn\\svm\\_base.py:986: ConvergenceWarning: Liblinear failed to converge, increase the number of iterations.\n",
      "  \"the number of iterations.\", ConvergenceWarning)\n",
      "C:\\ProgramData\\Anaconda3\\lib\\site-packages\\sklearn\\svm\\_base.py:986: ConvergenceWarning: Liblinear failed to converge, increase the number of iterations.\n",
      "  \"the number of iterations.\", ConvergenceWarning)\n",
      "C:\\ProgramData\\Anaconda3\\lib\\site-packages\\sklearn\\svm\\_base.py:986: ConvergenceWarning: Liblinear failed to converge, increase the number of iterations.\n",
      "  \"the number of iterations.\", ConvergenceWarning)\n",
      "C:\\ProgramData\\Anaconda3\\lib\\site-packages\\sklearn\\svm\\_base.py:986: ConvergenceWarning: Liblinear failed to converge, increase the number of iterations.\n",
      "  \"the number of iterations.\", ConvergenceWarning)\n",
      "C:\\ProgramData\\Anaconda3\\lib\\site-packages\\sklearn\\svm\\_base.py:986: ConvergenceWarning: Liblinear failed to converge, increase the number of iterations.\n",
      "  \"the number of iterations.\", ConvergenceWarning)\n"
     ]
    }
   ],
   "source": [
    "model21 = OneVsRestClassifier(LinearSVC(random_state=0))\n",
    "y_pred21=model.fit(X2_train, y2_train).predict(X2_test)"
   ]
  },
  {
   "cell_type": "code",
   "execution_count": 71,
   "id": "efficient-framing",
   "metadata": {},
   "outputs": [
    {
     "data": {
      "text/plain": [
       "array([[0, 1, 0, 0, 0],\n",
       "       [0, 1, 0, 0, 0],\n",
       "       [0, 0, 0, 0, 1],\n",
       "       [0, 1, 0, 0, 0],\n",
       "       [0, 0, 0, 0, 1],\n",
       "       [0, 0, 0, 0, 0],\n",
       "       [0, 1, 0, 0, 0],\n",
       "       [0, 1, 0, 0, 0],\n",
       "       [0, 1, 0, 0, 0],\n",
       "       [0, 0, 0, 0, 1],\n",
       "       [0, 1, 0, 0, 0],\n",
       "       [0, 1, 0, 0, 0],\n",
       "       [0, 0, 0, 0, 1],\n",
       "       [0, 0, 0, 0, 1],\n",
       "       [0, 1, 0, 0, 0],\n",
       "       [0, 1, 0, 0, 0],\n",
       "       [0, 1, 0, 0, 0],\n",
       "       [0, 1, 0, 0, 0],\n",
       "       [0, 0, 0, 0, 0],\n",
       "       [0, 1, 0, 0, 0],\n",
       "       [0, 0, 0, 0, 0],\n",
       "       [0, 1, 0, 0, 0],\n",
       "       [0, 0, 0, 0, 1],\n",
       "       [0, 0, 0, 0, 1],\n",
       "       [0, 1, 0, 0, 0],\n",
       "       [0, 1, 0, 0, 0],\n",
       "       [0, 0, 0, 0, 1],\n",
       "       [0, 1, 0, 0, 0],\n",
       "       [0, 1, 0, 0, 0],\n",
       "       [0, 0, 0, 0, 0],\n",
       "       [0, 0, 0, 0, 1],\n",
       "       [0, 0, 0, 0, 1],\n",
       "       [0, 1, 0, 0, 0],\n",
       "       [0, 0, 0, 0, 0],\n",
       "       [0, 0, 0, 0, 0],\n",
       "       [0, 0, 0, 0, 0],\n",
       "       [0, 1, 0, 0, 0],\n",
       "       [0, 1, 0, 0, 0],\n",
       "       [0, 1, 0, 0, 0],\n",
       "       [0, 0, 0, 0, 1],\n",
       "       [0, 0, 0, 0, 1],\n",
       "       [0, 0, 0, 0, 1],\n",
       "       [0, 1, 0, 0, 0],\n",
       "       [0, 1, 0, 0, 0],\n",
       "       [0, 1, 0, 0, 0],\n",
       "       [0, 0, 0, 0, 1],\n",
       "       [0, 0, 0, 0, 0],\n",
       "       [0, 1, 0, 0, 0],\n",
       "       [0, 0, 0, 0, 1],\n",
       "       [0, 0, 0, 0, 1],\n",
       "       [0, 1, 0, 0, 0],\n",
       "       [0, 0, 0, 0, 0],\n",
       "       [0, 1, 0, 0, 0],\n",
       "       [0, 0, 0, 0, 1],\n",
       "       [0, 0, 0, 0, 0],\n",
       "       [0, 0, 0, 0, 0],\n",
       "       [0, 0, 0, 0, 1],\n",
       "       [0, 1, 0, 0, 0],\n",
       "       [0, 1, 0, 0, 0],\n",
       "       [0, 1, 0, 0, 0],\n",
       "       [0, 0, 0, 0, 1],\n",
       "       [0, 1, 0, 0, 0],\n",
       "       [0, 0, 0, 0, 1],\n",
       "       [0, 1, 0, 0, 0],\n",
       "       [0, 0, 0, 0, 1],\n",
       "       [0, 0, 0, 0, 1],\n",
       "       [0, 1, 0, 0, 0],\n",
       "       [0, 1, 0, 0, 0],\n",
       "       [0, 1, 0, 0, 0],\n",
       "       [0, 1, 0, 0, 0],\n",
       "       [0, 0, 0, 0, 1],\n",
       "       [0, 1, 0, 0, 0],\n",
       "       [0, 1, 0, 0, 0],\n",
       "       [0, 0, 0, 0, 1],\n",
       "       [0, 0, 0, 0, 1],\n",
       "       [0, 0, 0, 0, 0],\n",
       "       [0, 0, 0, 0, 1],\n",
       "       [0, 1, 0, 0, 0],\n",
       "       [0, 0, 0, 0, 1],\n",
       "       [0, 1, 0, 0, 0],\n",
       "       [0, 0, 0, 0, 1],\n",
       "       [0, 0, 0, 0, 1],\n",
       "       [0, 1, 0, 0, 0],\n",
       "       [0, 0, 0, 0, 0],\n",
       "       [0, 1, 0, 0, 0],\n",
       "       [0, 0, 0, 0, 1],\n",
       "       [0, 0, 0, 0, 0],\n",
       "       [0, 0, 0, 0, 1],\n",
       "       [0, 0, 0, 0, 1],\n",
       "       [0, 0, 0, 0, 1],\n",
       "       [0, 0, 0, 0, 0],\n",
       "       [0, 0, 0, 0, 1],\n",
       "       [0, 1, 0, 0, 0],\n",
       "       [0, 1, 0, 0, 0],\n",
       "       [0, 0, 0, 0, 1],\n",
       "       [0, 1, 0, 0, 0],\n",
       "       [0, 0, 0, 0, 1],\n",
       "       [0, 1, 0, 0, 0],\n",
       "       [0, 0, 0, 0, 1],\n",
       "       [0, 1, 0, 0, 0],\n",
       "       [0, 0, 0, 0, 0],\n",
       "       [0, 0, 0, 0, 1],\n",
       "       [0, 1, 0, 0, 0],\n",
       "       [0, 0, 0, 0, 0],\n",
       "       [0, 1, 0, 0, 0],\n",
       "       [0, 0, 0, 0, 1],\n",
       "       [0, 1, 0, 0, 0],\n",
       "       [0, 0, 0, 0, 1],\n",
       "       [0, 1, 0, 0, 0],\n",
       "       [0, 0, 0, 0, 0],\n",
       "       [0, 0, 0, 0, 1],\n",
       "       [0, 0, 0, 0, 1],\n",
       "       [0, 0, 0, 0, 1],\n",
       "       [0, 1, 0, 0, 0],\n",
       "       [0, 0, 0, 0, 0],\n",
       "       [0, 1, 0, 0, 0],\n",
       "       [0, 0, 0, 0, 0]])"
      ]
     },
     "execution_count": 71,
     "metadata": {},
     "output_type": "execute_result"
    }
   ],
   "source": [
    "## after getting the results, transfer them back and see the confusion matrix\n",
    "\n",
    "y_pred21\n"
   ]
  },
  {
   "cell_type": "code",
   "execution_count": 76,
   "id": "genetic-microphone",
   "metadata": {},
   "outputs": [
    {
     "data": {
      "text/plain": [
       "LabelBinarizer()"
      ]
     },
     "execution_count": 76,
     "metadata": {},
     "output_type": "execute_result"
    }
   ],
   "source": [
    "from sklearn import preprocessing\n",
    "lb = preprocessing.LabelBinarizer()\n",
    "lb.fit(df2.dropna(axis=0,how='any')['Y2'])\n"
   ]
  },
  {
   "cell_type": "code",
   "execution_count": 77,
   "id": "peripheral-twins",
   "metadata": {},
   "outputs": [
    {
     "data": {
      "text/plain": [
       "array(['car-car', 'car-car', 'walk-walk', 'car-car', 'walk-walk',\n",
       "       'bus-bus', 'car-car', 'car-car', 'car-car', 'walk-walk', 'car-car',\n",
       "       'car-car', 'walk-walk', 'walk-walk', 'car-car', 'car-car',\n",
       "       'car-car', 'car-car', 'bus-bus', 'car-car', 'bus-bus', 'car-car',\n",
       "       'walk-walk', 'walk-walk', 'car-car', 'car-car', 'walk-walk',\n",
       "       'car-car', 'car-car', 'bus-bus', 'walk-walk', 'walk-walk',\n",
       "       'car-car', 'bus-bus', 'bus-bus', 'bus-bus', 'car-car', 'car-car',\n",
       "       'car-car', 'walk-walk', 'walk-walk', 'walk-walk', 'car-car',\n",
       "       'car-car', 'car-car', 'walk-walk', 'bus-bus', 'car-car',\n",
       "       'walk-walk', 'walk-walk', 'car-car', 'bus-bus', 'car-car',\n",
       "       'walk-walk', 'bus-bus', 'bus-bus', 'walk-walk', 'car-car',\n",
       "       'car-car', 'car-car', 'walk-walk', 'car-car', 'walk-walk',\n",
       "       'car-car', 'walk-walk', 'walk-walk', 'car-car', 'car-car',\n",
       "       'car-car', 'car-car', 'walk-walk', 'car-car', 'car-car',\n",
       "       'walk-walk', 'walk-walk', 'bus-bus', 'walk-walk', 'car-car',\n",
       "       'walk-walk', 'car-car', 'walk-walk', 'walk-walk', 'car-car',\n",
       "       'bus-bus', 'car-car', 'walk-walk', 'bus-bus', 'walk-walk',\n",
       "       'walk-walk', 'walk-walk', 'bus-bus', 'walk-walk', 'car-car',\n",
       "       'car-car', 'walk-walk', 'car-car', 'walk-walk', 'car-car',\n",
       "       'walk-walk', 'car-car', 'bus-bus', 'walk-walk', 'car-car',\n",
       "       'bus-bus', 'car-car', 'walk-walk', 'car-car', 'walk-walk',\n",
       "       'car-car', 'bus-bus', 'walk-walk', 'walk-walk', 'walk-walk',\n",
       "       'car-car', 'bus-bus', 'car-car', 'bus-bus'], dtype='<U9')"
      ]
     },
     "execution_count": 77,
     "metadata": {},
     "output_type": "execute_result"
    }
   ],
   "source": [
    "lb.inverse_transform(y_pred21)"
   ]
  },
  {
   "cell_type": "code",
   "execution_count": 78,
   "id": "accepting-layout",
   "metadata": {},
   "outputs": [],
   "source": [
    "y_pred21_encode=lb.inverse_transform(y_pred21)"
   ]
  },
  {
   "cell_type": "code",
   "execution_count": 81,
   "id": "sunrise-silly",
   "metadata": {},
   "outputs": [],
   "source": [
    "y2_test_encode=lb.inverse_transform(y2_test)"
   ]
  },
  {
   "cell_type": "code",
   "execution_count": 82,
   "id": "governmental-anniversary",
   "metadata": {},
   "outputs": [
    {
     "data": {
      "text/plain": [
       "array([[ 1,  5,  0,  0,  0],\n",
       "       [10, 41,  0,  0,  2],\n",
       "       [ 1,  0,  0,  0,  7],\n",
       "       [ 2,  5,  0,  0,  2],\n",
       "       [ 6,  3,  0,  0, 32]], dtype=int64)"
      ]
     },
     "execution_count": 82,
     "metadata": {},
     "output_type": "execute_result"
    }
   ],
   "source": [
    "confusion_matrix(y2_test_encode,y_pred21_encode)"
   ]
  },
  {
   "cell_type": "code",
   "execution_count": 83,
   "id": "reverse-yahoo",
   "metadata": {},
   "outputs": [
    {
     "name": "stdout",
     "output_type": "stream",
     "text": [
      "              precision    recall  f1-score   support\n",
      "\n",
      "     bus-bus       0.05      0.17      0.08         6\n",
      "     car-car       0.76      0.77      0.77        53\n",
      "    car-walk       0.00      0.00      0.00         8\n",
      "    walk-car       0.00      0.00      0.00         9\n",
      "   walk-walk       0.74      0.78      0.76        41\n",
      "\n",
      "    accuracy                           0.63       117\n",
      "   macro avg       0.31      0.34      0.32       117\n",
      "weighted avg       0.61      0.63      0.62       117\n",
      "\n"
     ]
    },
    {
     "name": "stderr",
     "output_type": "stream",
     "text": [
      "C:\\ProgramData\\Anaconda3\\lib\\site-packages\\sklearn\\metrics\\_classification.py:1245: UndefinedMetricWarning: Precision and F-score are ill-defined and being set to 0.0 in labels with no predicted samples. Use `zero_division` parameter to control this behavior.\n",
      "  _warn_prf(average, modifier, msg_start, len(result))\n",
      "C:\\ProgramData\\Anaconda3\\lib\\site-packages\\sklearn\\metrics\\_classification.py:1245: UndefinedMetricWarning: Precision and F-score are ill-defined and being set to 0.0 in labels with no predicted samples. Use `zero_division` parameter to control this behavior.\n",
      "  _warn_prf(average, modifier, msg_start, len(result))\n",
      "C:\\ProgramData\\Anaconda3\\lib\\site-packages\\sklearn\\metrics\\_classification.py:1245: UndefinedMetricWarning: Precision and F-score are ill-defined and being set to 0.0 in labels with no predicted samples. Use `zero_division` parameter to control this behavior.\n",
      "  _warn_prf(average, modifier, msg_start, len(result))\n"
     ]
    }
   ],
   "source": [
    "from sklearn.metrics import classification_report\n",
    "print(classification_report(y2_test_encode,y_pred21_encode, ))"
   ]
  },
  {
   "cell_type": "code",
   "execution_count": null,
   "id": "capital-thursday",
   "metadata": {},
   "outputs": [],
   "source": []
  }
 ],
 "metadata": {
  "kernelspec": {
   "display_name": "Python 3",
   "language": "python",
   "name": "python3"
  },
  "language_info": {
   "codemirror_mode": {
    "name": "ipython",
    "version": 3
   },
   "file_extension": ".py",
   "mimetype": "text/x-python",
   "name": "python",
   "nbconvert_exporter": "python",
   "pygments_lexer": "ipython3",
   "version": "3.8.8"
  }
 },
 "nbformat": 4,
 "nbformat_minor": 5
}
